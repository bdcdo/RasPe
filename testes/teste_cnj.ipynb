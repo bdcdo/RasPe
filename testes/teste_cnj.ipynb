{
 "cells": [
  {
   "cell_type": "code",
   "execution_count": 1,
   "id": "8acaba94",
   "metadata": {},
   "outputs": [],
   "source": [
    "import legiscraper as legis "
   ]
  },
  {
   "cell_type": "code",
   "execution_count": 2,
   "id": "c195d3cb",
   "metadata": {},
   "outputs": [
    {
     "name": "stderr",
     "output_type": "stream",
     "text": [
      "2025-05-29 19:56:33,501 - CNJ - DEBUG - Download path set to /tmp/tmp1nryddb1\n"
     ]
    }
   ],
   "source": [
    "cnj = legis.scraper('CNJ')"
   ]
  },
  {
   "cell_type": "code",
   "execution_count": 3,
   "id": "7b76f03d",
   "metadata": {},
   "outputs": [
    {
     "name": "stderr",
     "output_type": "stream",
     "text": [
      "2025-05-29 19:56:33,507 - CNJ - INFO - Starting scrape with parameters {'pesquisa': 'golpe do pix', 'paginas': range(0, 3)}\n",
      "2025-05-29 19:56:33,508 - CNJ - DEBUG - Setting query\n",
      "2025-05-29 19:56:33,509 - CNJ - DEBUG - {'itensPorPagina': 5, 'texto': 'golpe do pix'}\n",
      "2025-05-29 19:56:33,509 - CNJ - DEBUG - Setting n_pags\n",
      "2025-05-29 19:56:33,509 - CNJ - DEBUG - Sending r0 (attempt 1/3)\n",
      "2025-05-29 19:56:54,030 - CNJ - WARNING - Server error 500, retrying in 1s\n",
      "2025-05-29 19:56:55,031 - CNJ - DEBUG - Sending r0 (attempt 2/3)\n",
      "2025-05-29 19:57:11,341 - CNJ - DEBUG - Finding n_pags\n",
      "2025-05-29 19:57:11,343 - CNJ - DEBUG - Found 650 pages for query {'itensPorPagina': 5, 'texto': 'golpe do pix'}\n",
      "2025-05-29 19:57:11,344 - CNJ - DEBUG - Setting paginas\n",
      "2025-05-29 19:57:11,346 - CNJ - DEBUG - Created download directory at /tmp/tmp1nryddb1/CNJ/20250529195711\n",
      "Baixando documentos:   0%|          | 0/3 [00:00<?, ?it/s]2025-05-29 19:57:13,356 - CNJ - DEBUG - Downloading page 0\n",
      "2025-05-29 19:57:13,358 - CNJ - DEBUG - {'itensPorPagina': 5, 'texto': 'golpe do pix', 'pagina': 0}\n",
      "2025-05-29 19:57:25,791 - CNJ - DEBUG - <Response [200]>\n",
      "Baixando documentos:  33%|███▎      | 1/3 [00:14<00:28, 14.44s/it]2025-05-29 19:57:27,795 - CNJ - DEBUG - Downloading page 1\n",
      "2025-05-29 19:57:27,796 - CNJ - DEBUG - {'itensPorPagina': 5, 'texto': 'golpe do pix', 'pagina': 1}\n",
      "2025-05-29 19:57:42,159 - CNJ - DEBUG - <Response [200]>\n",
      "Baixando documentos:  67%|██████▋   | 2/3 [00:30<00:15, 15.57s/it]2025-05-29 19:57:44,162 - CNJ - DEBUG - Downloading page 2\n",
      "2025-05-29 19:57:44,164 - CNJ - DEBUG - {'itensPorPagina': 5, 'texto': 'golpe do pix', 'pagina': 2}\n",
      "2025-05-29 19:57:46,329 - CNJ - DEBUG - <Response [200]>\n",
      "Baixando documentos: 100%|██████████| 3/3 [00:34<00:00, 11.66s/it]\n",
      "2025-05-29 19:57:46,334 - CNJ - DEBUG - Parsing data\n",
      "Processando documentos: 100%|██████████| 3/3 [00:00<00:00, 252.24it/s]\n",
      "2025-05-29 19:57:46,358 - CNJ - INFO - Scrape finished, cleaning up directory /tmp/tmp1nryddb1/CNJ/20250529195711\n"
     ]
    }
   ],
   "source": [
    "dados_cnj = cnj.scrape(pesquisa='golpe do pix', paginas=range(0,3))"
   ]
  },
  {
   "cell_type": "code",
   "execution_count": 4,
   "id": "55332f7b",
   "metadata": {},
   "outputs": [
    {
     "data": {
      "text/html": [
       "<div><style>\n",
       ".dataframe > thead > tr,\n",
       ".dataframe > tbody > tr {\n",
       "  text-align: right;\n",
       "  white-space: pre-wrap;\n",
       "}\n",
       "</style>\n",
       "<small>shape: (15, 23)</small><table border=\"1\" class=\"dataframe\"><thead><tr><th>id</th><th>data_disponibilizacao</th><th>siglaTribunal</th><th>tipoComunicacao</th><th>nomeOrgao</th><th>texto</th><th>numero_processo</th><th>meio</th><th>link</th><th>tipoDocumento</th><th>nomeClasse</th><th>codigoClasse</th><th>numeroComunicacao</th><th>ativo</th><th>hash</th><th>status</th><th>motivo_cancelamento</th><th>data_cancelamento</th><th>datadisponibilizacao</th><th>meiocompleto</th><th>numeroprocessocommascara</th><th>destinatarios</th><th>destinatarioadvogados</th></tr><tr><td>i64</td><td>str</td><td>str</td><td>str</td><td>str</td><td>str</td><td>str</td><td>str</td><td>str</td><td>str</td><td>str</td><td>str</td><td>i64</td><td>bool</td><td>str</td><td>str</td><td>null</td><td>null</td><td>str</td><td>str</td><td>str</td><td>list[struct[3]]</td><td>list[struct[6]]</td></tr></thead><tbody><tr><td>282622697</td><td>&quot;2025-05-29&quot;</td><td>&quot;TJPE&quot;</td><td>&quot;Intimação&quot;</td><td>&quot;1º Juizado Especial Cível e da…</td><td>&quot;Tribunal de Justiça de Pernamb…</td><td>&quot;00066061620248178227&quot;</td><td>&quot;D&quot;</td><td>&quot;https://pje.cloud.tjpe.jus.br:…</td><td>&quot;Despacho_Intimação_Intimação (…</td><td>&quot;PROCEDIMENTO DO JUIZADO ESPECI…</td><td>&quot;436&quot;</td><td>157</td><td>true</td><td>&quot;AOMEBVQ8ZprHn2ImTWGPaeRd9l2zaP&quot;</td><td>&quot;P&quot;</td><td>null</td><td>null</td><td>&quot;29/05/2025&quot;</td><td>&quot;Diário de Justiça Eletrônico N…</td><td>&quot;0006606-16.2024.8.17.8227&quot;</td><td>[{&quot;NU FINANCEIRA S.A. - SOCIEDADE DE CREDITO, FINANCIAMENTO E INVESTIMENTO&quot;,282622697,&quot;P&quot;}]</td><td>[{476764259,282622697,7320,&quot;2025-05-28T05:13:48&quot;,&quot;2025-05-28T05:13:48&quot;,{7320,&quot;MARIA DO PERPETUO SOCORRO MAIA GOMES&quot;,&quot;21449&quot;,&quot;PE&quot;}}]</td></tr><tr><td>282712350</td><td>&quot;2025-05-29&quot;</td><td>&quot;TRF2&quot;</td><td>&quot;Intimação&quot;</td><td>&quot;2º Juizado Especial de Vitória&quot;</td><td>&quot;&lt;html&gt;\n",
       "\t&lt;head&gt;\n",
       "\t\t&lt;meta&gt;\n",
       "\t\t\n",
       "\t\t&lt;…</td><td>&quot;50077356220254025001&quot;</td><td>&quot;D&quot;</td><td>&quot;https://eproc.jfes.jus.br/epro…</td><td>&quot;DESPACHO/DECISÃO&quot;</td><td>&quot;PROCEDIMENTO DO JUIZADO ESPECI…</td><td>&quot;436&quot;</td><td>1131</td><td>true</td><td>&quot;DLz5neGXR4VubEHGT73AG2Zdy4gaOk&quot;</td><td>&quot;P&quot;</td><td>null</td><td>null</td><td>&quot;29/05/2025&quot;</td><td>&quot;Diário de Justiça Eletrônico N…</td><td>&quot;5007735-62.2025.4.02.5001&quot;</td><td>[{&quot;CIRLANDIA FERREIRA DE SOUZA JANUARIO&quot;,282712350,&quot;A&quot;}]</td><td>[{476955327,282712350,3747861,&quot;2025-05-28T08:25:10&quot;,&quot;2025-05-28T08:25:10&quot;,{3747861,&quot;MAYRA MORESCHI OLIVEIRA&quot;,&quot;ES038622&quot;,&quot;ES&quot;}}]</td></tr><tr><td>282723864</td><td>&quot;2025-05-29&quot;</td><td>&quot;TJRN&quot;</td><td>&quot;Intimação&quot;</td><td>&quot;Gab. do Juiz Ricardo Procópio …</td><td>&quot;PODER JUDICIÁRIO TRIBUNAL DE J…</td><td>&quot;08128856720248205004&quot;</td><td>&quot;D&quot;</td><td>&quot;https://pje2g.tjrn.jus.br:443/…</td><td>&quot;Intimação&quot;</td><td>&quot;RECURSO INOMINADO CíVEL&quot;</td><td>&quot;460&quot;</td><td>1680</td><td>true</td><td>&quot;w37ay8Ak6rxh5kf5TwpbarY4dOjxNQ&quot;</td><td>&quot;P&quot;</td><td>null</td><td>null</td><td>&quot;29/05/2025&quot;</td><td>&quot;Diário de Justiça Eletrônico N…</td><td>&quot;0812885-67.2024.8.20.5004&quot;</td><td>[{&quot;BANCO GENIAL S.A.&quot;,282723864,&quot;P&quot;}, {&quot;BANCO INTER S.A.&quot;,282723864,&quot;P&quot;}, … {&quot;PICPAY INSTITUICAO DE PAGAMENTO S/A&quot;,282723864,&quot;P&quot;}]</td><td>[{476984311,282723864,8206,&quot;2025-05-28T08:37:48&quot;,&quot;2025-05-28T08:37:48&quot;,{8206,&quot;JOAO THOMAZ PRAZERES GONDIM&quot;,&quot;62192&quot;,&quot;RJ&quot;}}, {476984310,282723864,899114,&quot;2025-05-28T08:37:48&quot;,&quot;2025-05-28T08:37:48&quot;,{899114,&quot;PAULO HENRIQUE DE MENEZES BARRETO&quot;,&quot;19817&quot;,&quot;RN&quot;}}, … {476984313,282723864,6289,&quot;2025-05-28T08:37:48&quot;,&quot;2025-05-28T08:37:48&quot;,{6289,&quot;CELSO DE FARIA MONTEIRO&quot;,&quot;138436&quot;,&quot;SP&quot;}}]</td></tr><tr><td>282790430</td><td>&quot;2025-05-29&quot;</td><td>&quot;TJPB&quot;</td><td>&quot;Intimação&quot;</td><td>&quot;2ª Vara Mista de Pombal&quot;</td><td>&quot;TRIBUNAL DE JUSTIÇA DA PARAÍBA…</td><td>&quot;08005524020258150881&quot;</td><td>&quot;D&quot;</td><td>&quot;https://pje.tjpb.jus.br:443/pj…</td><td>&quot;EXPEDIENTE&quot;</td><td>&quot;PROCEDIMENTO DO JUIZADO ESPECI…</td><td>&quot;436&quot;</td><td>2504</td><td>true</td><td>&quot;DLz5neGXZ4Msro3cGT73AG2Ydy4gaO&quot;</td><td>&quot;P&quot;</td><td>null</td><td>null</td><td>&quot;29/05/2025&quot;</td><td>&quot;Diário de Justiça Eletrônico N…</td><td>&quot;0800552-40.2025.8.15.0881&quot;</td><td>[{&quot;SEBASTIAO PEREIRA DE ARAUJO - ME&quot;,282790430,&quot;A&quot;}]</td><td>[{477122496,282790430,480740,&quot;2025-05-28T09:52:52&quot;,&quot;2025-05-28T09:52:52&quot;,{480740,&quot;FLAUBER JOSE DANTAS DOS SANTOS CARNEIRO&quot;,&quot;23221&quot;,&quot;PB&quot;}}]</td></tr><tr><td>282792812</td><td>&quot;2025-05-29&quot;</td><td>&quot;TJCE&quot;</td><td>&quot;Intimação&quot;</td><td>&quot;1º Gabinete da 2ª Turma Recurs…</td><td>&quot;SÚMULA DE JULGAMENTO (Art. 46[…</td><td>&quot;30006473920248060137&quot;</td><td>&quot;D&quot;</td><td>&quot;https://pje.tjce.jus.br:443/pj…</td><td>&quot;Intimação&quot;</td><td>&quot;RECURSO INOMINADO CíVEL&quot;</td><td>&quot;460&quot;</td><td>3186</td><td>true</td><td>&quot;A7mjrylDRjbcMEBugTWJodlRwL5MW2&quot;</td><td>&quot;P&quot;</td><td>null</td><td>null</td><td>&quot;29/05/2025&quot;</td><td>&quot;Diário de Justiça Eletrônico N…</td><td>&quot;3000647-39.2024.8.06.0137&quot;</td><td>[{&quot;ANGELO MARCONDES FURTADO DIAS&quot;,282792812,&quot;A&quot;}, {&quot;ANTONIO DE MORAES DOURADO NETO&quot;,282792812,&quot;P&quot;}, {&quot;LUIZ AUGUSTO ABRANTES PEQUENO JUNIOR&quot;,282792812,&quot;P&quot;}]</td><td>[{477127026,282792812,941901,&quot;2025-05-28T09:58:23&quot;,&quot;2025-05-28T09:58:23&quot;,{941901,&quot;ANTONIO DE MORAES DOURADO NETO&quot;,&quot;30142&quot;,&quot;CE&quot;}}, {477127024,282792812,2323127,&quot;2025-05-28T09:58:23&quot;,&quot;2025-05-28T09:58:23&quot;,{2323127,&quot;ANGELO MARCONDES FURTADO DIAS&quot;,&quot;7481&quot;,&quot;CE&quot;}}, {477127025,282792812,946889,&quot;2025-05-28T09:58:23&quot;,&quot;2025-05-28T09:58:23&quot;,{946889,&quot;LUIZ AUGUSTO ABRANTES PEQUENO JUNIOR&quot;,&quot;23178&quot;,&quot;CE&quot;}}]</td></tr><tr><td>&hellip;</td><td>&hellip;</td><td>&hellip;</td><td>&hellip;</td><td>&hellip;</td><td>&hellip;</td><td>&hellip;</td><td>&hellip;</td><td>&hellip;</td><td>&hellip;</td><td>&hellip;</td><td>&hellip;</td><td>&hellip;</td><td>&hellip;</td><td>&hellip;</td><td>&hellip;</td><td>&hellip;</td><td>&hellip;</td><td>&hellip;</td><td>&hellip;</td><td>&hellip;</td><td>&hellip;</td><td>&hellip;</td></tr><tr><td>282849637</td><td>&quot;2025-05-29&quot;</td><td>&quot;TJPE&quot;</td><td>&quot;Intimação&quot;</td><td>&quot;Vara Única da Comarca de Tupar…</td><td>&quot;Tribunal de Justiça de Pernamb…</td><td>&quot;00003546120228173540&quot;</td><td>&quot;D&quot;</td><td>&quot;https://pje.cloud.tjpe.jus.br:…</td><td>&quot;Despacho_Intimação_Intimação (…</td><td>&quot;PROCEDIMENTO COMUM CíVEL&quot;</td><td>&quot;7&quot;</td><td>3975</td><td>true</td><td>&quot;PDbmx4M3YqVHmV1hyTJ1WnbRgozp85&quot;</td><td>&quot;P&quot;</td><td>null</td><td>null</td><td>&quot;29/05/2025&quot;</td><td>&quot;Diário de Justiça Eletrônico N…</td><td>&quot;0000354-61.2022.8.17.3540&quot;</td><td>[{&quot;GLAYDSTONE DANIEL DE SOUZA&quot;,282849637,&quot;A&quot;}]</td><td>[]</td></tr><tr><td>282849643</td><td>&quot;2025-05-29&quot;</td><td>&quot;TJPE&quot;</td><td>&quot;Intimação&quot;</td><td>&quot;Vara Única da Comarca de Tupar…</td><td>&quot;Tribunal de Justiça de Pernamb…</td><td>&quot;00003546120228173540&quot;</td><td>&quot;D&quot;</td><td>&quot;https://pje.cloud.tjpe.jus.br:…</td><td>&quot;Despacho_Intimação_Intimação (…</td><td>&quot;PROCEDIMENTO COMUM CíVEL&quot;</td><td>&quot;7&quot;</td><td>3976</td><td>true</td><td>&quot;KAPnkeQmYdQHM5GflTj8vzJRd5o94b&quot;</td><td>&quot;P&quot;</td><td>null</td><td>null</td><td>&quot;29/05/2025&quot;</td><td>&quot;Diário de Justiça Eletrônico N…</td><td>&quot;0000354-61.2022.8.17.3540&quot;</td><td>[{&quot;DAVID SOMBRA PEIXOTO REGISTRADO(A) CIVILMENTE COMO DAVID SOMBRA PEIXOTO&quot;,282849643,&quot;P&quot;}]</td><td>[]</td></tr><tr><td>282850111</td><td>&quot;2025-05-29&quot;</td><td>&quot;TJPE&quot;</td><td>&quot;Intimação&quot;</td><td>&quot;Vara Única da Comarca de Tupar…</td><td>&quot;Tribunal de Justiça de Pernamb…</td><td>&quot;00004475320248173540&quot;</td><td>&quot;D&quot;</td><td>&quot;https://pje.cloud.tjpe.jus.br:…</td><td>&quot;Despacho_Intimação_Intimação (…</td><td>&quot;PROCEDIMENTO COMUM CíVEL&quot;</td><td>&quot;7&quot;</td><td>3984</td><td>true</td><td>&quot;DLz5neGXY4dHQnVfGT73AG2Ydy4gaO&quot;</td><td>&quot;P&quot;</td><td>null</td><td>null</td><td>&quot;29/05/2025&quot;</td><td>&quot;Diário de Justiça Eletrônico N…</td><td>&quot;0000447-53.2024.8.17.3540&quot;</td><td>[{&quot;ELOISA TEIXEIRA FERREIRA&quot;,282850111,&quot;A&quot;}]</td><td>[{477252782,282850111,1561739,&quot;2025-05-28T10:54:20&quot;,&quot;2025-05-28T10:54:20&quot;,{1561739,&quot;JONATHAN DO NASCIMENTO OLIVEIRA&quot;,&quot;14475&quot;,&quot;PB&quot;}}, {477252781,282850111,1644821,&quot;2025-05-28T10:54:20&quot;,&quot;2025-05-28T10:54:20&quot;,{1644821,&quot;DIOGENES JOSE DA SILVA&quot;,&quot;42012&quot;,&quot;PE&quot;}}]</td></tr><tr><td>282850113</td><td>&quot;2025-05-29&quot;</td><td>&quot;TJPE&quot;</td><td>&quot;Intimação&quot;</td><td>&quot;Vara Única da Comarca de Tupar…</td><td>&quot;Tribunal de Justiça de Pernamb…</td><td>&quot;00004475320248173540&quot;</td><td>&quot;D&quot;</td><td>&quot;https://pje.cloud.tjpe.jus.br:…</td><td>&quot;Despacho_Intimação_Intimação (…</td><td>&quot;PROCEDIMENTO COMUM CíVEL&quot;</td><td>&quot;7&quot;</td><td>3985</td><td>true</td><td>&quot;QpOqvB2lY3dH59lh9TXGlwdRyPD35n&quot;</td><td>&quot;P&quot;</td><td>null</td><td>null</td><td>&quot;29/05/2025&quot;</td><td>&quot;Diário de Justiça Eletrônico N…</td><td>&quot;0000447-53.2024.8.17.3540&quot;</td><td>[{&quot;WILL S.A. INSTITUICAO DE PAGAMENTO&quot;,282850113,&quot;P&quot;}]</td><td>[{477252784,282850113,5091,&quot;2025-05-28T10:54:20&quot;,&quot;2025-05-28T10:54:20&quot;,{5091,&quot;ELLEN CRISTINA GONCALVES PIRES&quot;,&quot;131600&quot;,&quot;SP&quot;}}]</td></tr><tr><td>282642176</td><td>&quot;2025-05-29&quot;</td><td>&quot;TJGO&quot;</td><td>&quot;Intimação&quot;</td><td>&quot;Padre Bernardo - 1ª Vara Cível&quot;</td><td>&quot;&amp;nbsp;PODER JUDICIARIO DO ESTA…</td><td>&quot;56801500820248090116&quot;</td><td>&quot;D&quot;</td><td>&quot;https://projudi.tjgo.jus.br/p?…</td><td>&quot;Sentença&quot;</td><td>&quot;PROCEDIMENTO COMUM CíVEL&quot;</td><td>&quot;7&quot;</td><td>4040</td><td>true</td><td>&quot;PpDAj7XqZvwfVLJu4Tny3BxYrvMJbg&quot;</td><td>&quot;P&quot;</td><td>null</td><td>null</td><td>&quot;29/05/2025&quot;</td><td>&quot;Diário de Justiça Eletrônico N…</td><td>&quot;5680150-08.2024.8.09.0116&quot;</td><td>[{&quot;MARIANA TELES GOMES&quot;,282642176,&quot;A&quot;}]</td><td>[{476801271,282642176,1140210,&quot;2025-05-28T06:20:42&quot;,&quot;2025-05-28T06:20:42&quot;,{1140210,&quot;FELIPE OTAVIO MORAES ALVES&quot;,&quot;64236&quot;,&quot;GO&quot;}}]</td></tr></tbody></table></div>"
      ],
      "text/plain": [
       "shape: (15, 23)\n",
       "┌───────────┬───────────┬───────────┬───────────┬───┬───────────┬───────────┬───────────┬──────────┐\n",
       "│ id        ┆ data_disp ┆ siglaTrib ┆ tipoComun ┆ … ┆ meiocompl ┆ numeropro ┆ destinata ┆ destinat │\n",
       "│ ---       ┆ onibiliza ┆ unal      ┆ icacao    ┆   ┆ eto       ┆ cessocomm ┆ rios      ┆ arioadvo │\n",
       "│ i64       ┆ cao       ┆ ---       ┆ ---       ┆   ┆ ---       ┆ ascara    ┆ ---       ┆ gados    │\n",
       "│           ┆ ---       ┆ str       ┆ str       ┆   ┆ str       ┆ ---       ┆ list[stru ┆ ---      │\n",
       "│           ┆ str       ┆           ┆           ┆   ┆           ┆ str       ┆ ct[3]]    ┆ list[str │\n",
       "│           ┆           ┆           ┆           ┆   ┆           ┆           ┆           ┆ uct[6]]  │\n",
       "╞═══════════╪═══════════╪═══════════╪═══════════╪═══╪═══════════╪═══════════╪═══════════╪══════════╡\n",
       "│ 282622697 ┆ 2025-05-2 ┆ TJPE      ┆ Intimação ┆ … ┆ Diário de ┆ 0006606-1 ┆ [{\"NU FIN ┆ [{476764 │\n",
       "│           ┆ 9         ┆           ┆           ┆   ┆ Justiça   ┆ 6.2024.8. ┆ ANCEIRA   ┆ 259,2826 │\n",
       "│           ┆           ┆           ┆           ┆   ┆ Eletrônic ┆ 17.8227   ┆ S.A. -    ┆ 22697,73 │\n",
       "│           ┆           ┆           ┆           ┆   ┆ o N…      ┆           ┆ SOCIED…   ┆ 20,\"20…  │\n",
       "│ 282712350 ┆ 2025-05-2 ┆ TRF2      ┆ Intimação ┆ … ┆ Diário de ┆ 5007735-6 ┆ [{\"CIRLAN ┆ [{476955 │\n",
       "│           ┆ 9         ┆           ┆           ┆   ┆ Justiça   ┆ 2.2025.4. ┆ DIA       ┆ 327,2827 │\n",
       "│           ┆           ┆           ┆           ┆   ┆ Eletrônic ┆ 02.5001   ┆ FERREIRA  ┆ 12350,37 │\n",
       "│           ┆           ┆           ┆           ┆   ┆ o N…      ┆           ┆ DE SOUZA… ┆ 47861,…  │\n",
       "│ 282723864 ┆ 2025-05-2 ┆ TJRN      ┆ Intimação ┆ … ┆ Diário de ┆ 0812885-6 ┆ [{\"BANCO  ┆ [{476984 │\n",
       "│           ┆ 9         ┆           ┆           ┆   ┆ Justiça   ┆ 7.2024.8. ┆ GENIAL    ┆ 311,2827 │\n",
       "│           ┆           ┆           ┆           ┆   ┆ Eletrônic ┆ 20.5004   ┆ S.A.\",282 ┆ 23864,82 │\n",
       "│           ┆           ┆           ┆           ┆   ┆ o N…      ┆           ┆ 72386…    ┆ 06,\"20…  │\n",
       "│ 282790430 ┆ 2025-05-2 ┆ TJPB      ┆ Intimação ┆ … ┆ Diário de ┆ 0800552-4 ┆ [{\"SEBAST ┆ [{477122 │\n",
       "│           ┆ 9         ┆           ┆           ┆   ┆ Justiça   ┆ 0.2025.8. ┆ IAO       ┆ 496,2827 │\n",
       "│           ┆           ┆           ┆           ┆   ┆ Eletrônic ┆ 15.0881   ┆ PEREIRA   ┆ 90430,48 │\n",
       "│           ┆           ┆           ┆           ┆   ┆ o N…      ┆           ┆ DE        ┆ 0740,\"…  │\n",
       "│           ┆           ┆           ┆           ┆   ┆           ┆           ┆ ARAUJO…   ┆          │\n",
       "│ 282792812 ┆ 2025-05-2 ┆ TJCE      ┆ Intimação ┆ … ┆ Diário de ┆ 3000647-3 ┆ [{\"ANGELO ┆ [{477127 │\n",
       "│           ┆ 9         ┆           ┆           ┆   ┆ Justiça   ┆ 9.2024.8. ┆ MARCONDES ┆ 026,2827 │\n",
       "│           ┆           ┆           ┆           ┆   ┆ Eletrônic ┆ 06.0137   ┆ FURTADO   ┆ 92812,94 │\n",
       "│           ┆           ┆           ┆           ┆   ┆ o N…      ┆           ┆ DI…       ┆ 1901,\"…  │\n",
       "│ …         ┆ …         ┆ …         ┆ …         ┆ … ┆ …         ┆ …         ┆ …         ┆ …        │\n",
       "│ 282849637 ┆ 2025-05-2 ┆ TJPE      ┆ Intimação ┆ … ┆ Diário de ┆ 0000354-6 ┆ [{\"GLAYDS ┆ []       │\n",
       "│           ┆ 9         ┆           ┆           ┆   ┆ Justiça   ┆ 1.2022.8. ┆ TONE      ┆          │\n",
       "│           ┆           ┆           ┆           ┆   ┆ Eletrônic ┆ 17.3540   ┆ DANIEL DE ┆          │\n",
       "│           ┆           ┆           ┆           ┆   ┆ o N…      ┆           ┆ SOUZA\"…   ┆          │\n",
       "│ 282849643 ┆ 2025-05-2 ┆ TJPE      ┆ Intimação ┆ … ┆ Diário de ┆ 0000354-6 ┆ [{\"DAVID  ┆ []       │\n",
       "│           ┆ 9         ┆           ┆           ┆   ┆ Justiça   ┆ 1.2022.8. ┆ SOMBRA    ┆          │\n",
       "│           ┆           ┆           ┆           ┆   ┆ Eletrônic ┆ 17.3540   ┆ PEIXOTO   ┆          │\n",
       "│           ┆           ┆           ┆           ┆   ┆ o N…      ┆           ┆ REGIST…   ┆          │\n",
       "│ 282850111 ┆ 2025-05-2 ┆ TJPE      ┆ Intimação ┆ … ┆ Diário de ┆ 0000447-5 ┆ [{\"ELOISA ┆ [{477252 │\n",
       "│           ┆ 9         ┆           ┆           ┆   ┆ Justiça   ┆ 3.2024.8. ┆ TEIXEIRA  ┆ 782,2828 │\n",
       "│           ┆           ┆           ┆           ┆   ┆ Eletrônic ┆ 17.3540   ┆ FERREIRA\" ┆ 50111,15 │\n",
       "│           ┆           ┆           ┆           ┆   ┆ o N…      ┆           ┆ ,2…       ┆ 61739,…  │\n",
       "│ 282850113 ┆ 2025-05-2 ┆ TJPE      ┆ Intimação ┆ … ┆ Diário de ┆ 0000447-5 ┆ [{\"WILL   ┆ [{477252 │\n",
       "│           ┆ 9         ┆           ┆           ┆   ┆ Justiça   ┆ 3.2024.8. ┆ S.A. INST ┆ 784,2828 │\n",
       "│           ┆           ┆           ┆           ┆   ┆ Eletrônic ┆ 17.3540   ┆ ITUICAO   ┆ 50113,50 │\n",
       "│           ┆           ┆           ┆           ┆   ┆ o N…      ┆           ┆ DE PA…    ┆ 91,\"20…  │\n",
       "│ 282642176 ┆ 2025-05-2 ┆ TJGO      ┆ Intimação ┆ … ┆ Diário de ┆ 5680150-0 ┆ [{\"MARIAN ┆ [{476801 │\n",
       "│           ┆ 9         ┆           ┆           ┆   ┆ Justiça   ┆ 8.2024.8. ┆ A TELES   ┆ 271,2826 │\n",
       "│           ┆           ┆           ┆           ┆   ┆ Eletrônic ┆ 09.0116   ┆ GOMES\",28 ┆ 42176,11 │\n",
       "│           ┆           ┆           ┆           ┆   ┆ o N…      ┆           ┆ 2642…     ┆ 40210,…  │\n",
       "└───────────┴───────────┴───────────┴───────────┴───┴───────────┴───────────┴───────────┴──────────┘"
      ]
     },
     "execution_count": 4,
     "metadata": {},
     "output_type": "execute_result"
    }
   ],
   "source": [
    "dados_cnj"
   ]
  }
 ],
 "metadata": {
  "kernelspec": {
   "display_name": ".venv",
   "language": "python",
   "name": "python3"
  },
  "language_info": {
   "codemirror_mode": {
    "name": "ipython",
    "version": 3
   },
   "file_extension": ".py",
   "mimetype": "text/x-python",
   "name": "python",
   "nbconvert_exporter": "python",
   "pygments_lexer": "ipython3",
   "version": "3.12.3"
  }
 },
 "nbformat": 4,
 "nbformat_minor": 5
}
