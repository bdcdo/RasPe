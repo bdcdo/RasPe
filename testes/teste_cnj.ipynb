{
 "cells": [
  {
   "cell_type": "code",
   "execution_count": 1,
   "id": "8acaba94",
   "metadata": {},
   "outputs": [],
   "source": [
    "import legiscraper as legis "
   ]
  },
  {
   "cell_type": "code",
   "execution_count": 2,
   "id": "c195d3cb",
   "metadata": {},
   "outputs": [
    {
     "name": "stderr",
     "output_type": "stream",
     "text": [
      "2025-05-20 16:10:56,718 - CNJ - DEBUG - Download path set to /tmp/tmp0usoaob7\n"
     ]
    }
   ],
   "source": [
    "cnj = legis.scraper('CNJ')"
   ]
  },
  {
   "cell_type": "code",
   "execution_count": 3,
   "id": "7b76f03d",
   "metadata": {},
   "outputs": [
    {
     "name": "stderr",
     "output_type": "stream",
     "text": [
      "2025-05-20 16:10:58,704 - CNJ - INFO - Starting scrape with parameters {'pesquisa': 'golpe do pix', 'paginas': range(0, 3)}\n",
      "2025-05-20 16:10:58,705 - CNJ - DEBUG - Setting query\n",
      "2025-05-20 16:10:58,705 - CNJ - DEBUG - {'itensPorPagina': 5, 'texto': 'golpe do pix'}\n",
      "2025-05-20 16:10:58,706 - CNJ - DEBUG - Setting n_pags\n",
      "2025-05-20 16:10:58,706 - CNJ - DEBUG - Sending r0.\n",
      "2025-05-20 16:10:59,448 - CNJ - DEBUG - Finding n_pags\n",
      "2025-05-20 16:10:59,450 - CNJ - DEBUG - Found 169 pages for query {'itensPorPagina': 5, 'texto': 'golpe do pix'}\n",
      "2025-05-20 16:10:59,451 - CNJ - DEBUG - Setting paginas\n",
      "2025-05-20 16:10:59,452 - CNJ - DEBUG - Created download directory at /tmp/tmp0usoaob7/CNJ/20250520161059\n",
      "Baixando documentos:   0%|          | 0/3 [00:00<?, ?it/s]2025-05-20 16:11:01,461 - CNJ - DEBUG - Downloading page 0\n",
      "2025-05-20 16:11:01,462 - CNJ - DEBUG - {'itensPorPagina': 5, 'texto': 'golpe do pix', 'pagina': 0}\n",
      "2025-05-20 16:11:01,626 - CNJ - DEBUG - <Response [200]>\n",
      "Baixando documentos:  33%|███▎      | 1/3 [00:02<00:04,  2.17s/it]2025-05-20 16:11:03,627 - CNJ - DEBUG - Downloading page 1\n",
      "2025-05-20 16:11:03,628 - CNJ - DEBUG - {'itensPorPagina': 5, 'texto': 'golpe do pix', 'pagina': 1}\n",
      "2025-05-20 16:11:03,916 - CNJ - DEBUG - <Response [200]>\n",
      "Baixando documentos:  67%|██████▋   | 2/3 [00:04<00:02,  2.24s/it]2025-05-20 16:11:05,920 - CNJ - DEBUG - Downloading page 2\n",
      "2025-05-20 16:11:05,921 - CNJ - DEBUG - {'itensPorPagina': 5, 'texto': 'golpe do pix', 'pagina': 2}\n",
      "2025-05-20 16:11:06,230 - CNJ - DEBUG - <Response [200]>\n",
      "Baixando documentos: 100%|██████████| 3/3 [00:06<00:00,  2.26s/it]\n",
      "2025-05-20 16:11:06,235 - CNJ - DEBUG - Parsing data\n",
      "Processando documentos: 100%|██████████| 3/3 [00:00<00:00, 280.00it/s]\n",
      "2025-05-20 16:11:06,256 - CNJ - INFO - Scrape finished, cleaning up directory /tmp/tmp0usoaob7/CNJ/20250520161059\n"
     ]
    }
   ],
   "source": [
    "dados_cnj = cnj.scrape(pesquisa='golpe do pix', paginas=range(0,3))"
   ]
  },
  {
   "cell_type": "code",
   "execution_count": 4,
   "id": "55332f7b",
   "metadata": {},
   "outputs": [
    {
     "data": {
      "text/html": [
       "<div><style>\n",
       ".dataframe > thead > tr,\n",
       ".dataframe > tbody > tr {\n",
       "  text-align: right;\n",
       "  white-space: pre-wrap;\n",
       "}\n",
       "</style>\n",
       "<small>shape: (14, 23)</small><table border=\"1\" class=\"dataframe\"><thead><tr><th>id</th><th>data_disponibilizacao</th><th>siglaTribunal</th><th>tipoComunicacao</th><th>nomeOrgao</th><th>texto</th><th>numero_processo</th><th>meio</th><th>link</th><th>tipoDocumento</th><th>nomeClasse</th><th>codigoClasse</th><th>numeroComunicacao</th><th>ativo</th><th>hash</th><th>status</th><th>motivo_cancelamento</th><th>data_cancelamento</th><th>datadisponibilizacao</th><th>meiocompleto</th><th>numeroprocessocommascara</th><th>destinatarios</th><th>destinatarioadvogados</th></tr><tr><td>i64</td><td>str</td><td>str</td><td>str</td><td>str</td><td>str</td><td>str</td><td>str</td><td>str</td><td>str</td><td>str</td><td>str</td><td>i64</td><td>bool</td><td>str</td><td>str</td><td>null</td><td>null</td><td>str</td><td>str</td><td>str</td><td>list[struct[3]]</td><td>list[struct[6]]</td></tr></thead><tbody><tr><td>273909030</td><td>&quot;2025-05-20&quot;</td><td>&quot;TJRN&quot;</td><td>&quot;Intimação&quot;</td><td>&quot;3º Juizado Especial Cível, Cri…</td><td>&quot;PODER JUDICIÁRIO DO ESTADO DO …</td><td>&quot;08067754620258205124&quot;</td><td>&quot;D&quot;</td><td>&quot;https://pje1g.tjrn.jus.br:443/…</td><td>&quot;Intimação&quot;</td><td>&quot;PROCEDIMENTO DO JUIZADO ESPECI…</td><td>&quot;436&quot;</td><td>2658</td><td>true</td><td>&quot;7e9MjpmEYnWhGXJulTlP7KWRqrnD41&quot;</td><td>&quot;P&quot;</td><td>null</td><td>null</td><td>&quot;20/05/2025&quot;</td><td>&quot;Diário de Justiça Eletrônico N…</td><td>&quot;0806775-46.2025.8.20.5124&quot;</td><td>[{&quot;A&quot;,&quot;ANDREY JERONIMO LEIRIAS&quot;,273909030}]</td><td>[{458989761,273909030,853171,&quot;2025-05-19T09:54:47&quot;,&quot;2025-05-19T09:54:47&quot;,{853171,&quot;ANDREY JERONIMO LEIRIAS&quot;,&quot;15472&quot;,&quot;RN&quot;}}]</td></tr><tr><td>273909560</td><td>&quot;2025-05-20&quot;</td><td>&quot;TJRN&quot;</td><td>&quot;Intimação&quot;</td><td>&quot;3º Juizado Especial Cível, Cri…</td><td>&quot;PODER JUDICIÁRIO DO ESTADO DO …</td><td>&quot;08067754620258205124&quot;</td><td>&quot;D&quot;</td><td>&quot;https://pje1g.tjrn.jus.br:443/…</td><td>&quot;Intimação&quot;</td><td>&quot;PROCEDIMENTO DO JUIZADO ESPECI…</td><td>&quot;436&quot;</td><td>2672</td><td>true</td><td>&quot;dQP4g8rBZ71h58GSqTzVnkERn27bML&quot;</td><td>&quot;P&quot;</td><td>null</td><td>null</td><td>&quot;20/05/2025&quot;</td><td>&quot;Diário de Justiça Eletrônico N…</td><td>&quot;0806775-46.2025.8.20.5124&quot;</td><td>[{&quot;P&quot;,&quot;NU PAGAMENTOS S.A.&quot;,273909560}]</td><td>[{458990643,273909560,3935,&quot;2025-05-19T09:55:32&quot;,&quot;2025-05-19T09:55:32&quot;,{3935,&quot;ANTONIO DE MORAES DOURADO NETO&quot;,&quot;23255&quot;,&quot;PE&quot;}}]</td></tr><tr><td>273927798</td><td>&quot;2025-05-20&quot;</td><td>&quot;TJGO&quot;</td><td>&quot;Intimação&quot;</td><td>&quot;Goiânia - 2ª UPJ Juizados Espe…</td><td>&quot;Poder Judici&amp;aacute;rioTribuna…</td><td>&quot;52333842620258090051&quot;</td><td>&quot;D&quot;</td><td>&quot;https://projudi.tjgo.jus.br/p?…</td><td>&quot;Sentença&quot;</td><td>&quot;PROCEDIMENTO DO JUIZADO ESPECI…</td><td>&quot;436&quot;</td><td>2915</td><td>true</td><td>&quot;JKg5dkqm6LQfWM1FmTwgzyDZ1NarD3&quot;</td><td>&quot;P&quot;</td><td>null</td><td>null</td><td>&quot;20/05/2025&quot;</td><td>&quot;Diário de Justiça Eletrônico N…</td><td>&quot;5233384-26.2025.8.09.0051&quot;</td><td>[{&quot;P&quot;,&quot;BANCO BRADESCO S.A.&quot;,273927798}, {&quot;P&quot;,&quot;BANCO SANTANDER (BRASIL) S.A.&quot;,273927798}, … {&quot;A&quot;,&quot;JOAO VITOR NUNES DOS SANTOS&quot;,273927798}]</td><td>[{459034927,273927798,1123322,&quot;2025-05-19T10:10:18&quot;,&quot;2025-05-19T10:10:18&quot;,{1123322,&quot;WILSON SALES BELCHIOR&quot;,&quot;31084&quot;,&quot;GO&quot;}}, {459034926,273927798,2437429,&quot;2025-05-19T10:10:18&quot;,&quot;2025-05-19T10:10:18&quot;,{2437429,&quot;OSMAR MENDES PAIXAO CORTES&quot;,&quot;27284&quot;,&quot;GO&quot;}}, {459034925,273927798,3586579,&quot;2025-05-19T10:10:18&quot;,&quot;2025-05-19T10:10:18&quot;,{3586579,&quot;LUCÉLIA DA CONCEIÇÃO ALVES&quot;,&quot;394930&quot;,&quot;GO&quot;}}]</td></tr><tr><td>274015630</td><td>&quot;2025-05-20&quot;</td><td>&quot;TJCE&quot;</td><td>&quot;Intimação&quot;</td><td>&quot;12ª Unidade do Juizado Especia…</td><td>&quot;12ª UNIDADE DOS JUIZADOS ESPEC…</td><td>&quot;30001483220258060004&quot;</td><td>&quot;D&quot;</td><td>&quot;https://pje.tjce.jus.br:443/pj…</td><td>&quot;Sentença&quot;</td><td>&quot;PROCEDIMENTO DO JUIZADO ESPECI…</td><td>&quot;436&quot;</td><td>3401</td><td>true</td><td>&quot;XqOELQJvYb4cGKeTXTND3dv6yo3rGz&quot;</td><td>&quot;P&quot;</td><td>null</td><td>null</td><td>&quot;20/05/2025&quot;</td><td>&quot;Diário de Justiça Eletrônico N…</td><td>&quot;3000148-32.2025.8.06.0004&quot;</td><td>[{&quot;P&quot;,&quot;BANCO BRADESCO S.A.&quot;,274015630}, {&quot;P&quot;,&quot;ITAU UNIBANCO S.A.&quot;,274015630}, {&quot;A&quot;,&quot;MANUEL LUIS DA ROCHA NETO&quot;,274015630}]</td><td>[{459209059,274015630,1293384,&quot;2025-05-19T11:23:22&quot;,&quot;2025-05-19T11:23:22&quot;,{1293384,&quot;MATHEUS JOSE BORGES RIBEIRO CAVALCANTE&quot;,&quot;51393&quot;,&quot;CE&quot;}}, {459209062,274015630,1022391,&quot;2025-05-19T11:23:22&quot;,&quot;2025-05-19T11:23:22&quot;,{1022391,&quot;JOELZA DE OLIVEIRA ROCHA&quot;,&quot;28698&quot;,&quot;CE&quot;}}, … {459209060,274015630,4411,&quot;2025-05-19T11:23:22&quot;,&quot;2025-05-19T11:23:22&quot;,{4411,&quot;ENY ANGE SOLEDADE BITTENCOURT DE ARAUJO&quot;,&quot;29442&quot;,&quot;BA&quot;}}]</td></tr><tr><td>274015671</td><td>&quot;2025-05-20&quot;</td><td>&quot;TJCE&quot;</td><td>&quot;Intimação&quot;</td><td>&quot;12ª Unidade do Juizado Especia…</td><td>&quot;12ª UNIDADE DOS JUIZADOS ESPEC…</td><td>&quot;30001483220258060004&quot;</td><td>&quot;D&quot;</td><td>&quot;https://pje.tjce.jus.br:443/pj…</td><td>&quot;Sentença&quot;</td><td>&quot;PROCEDIMENTO DO JUIZADO ESPECI…</td><td>&quot;436&quot;</td><td>3402</td><td>true</td><td>&quot;2nqe4VJbYaOca8MHzTn1Xbm6Kk7AgO&quot;</td><td>&quot;P&quot;</td><td>null</td><td>null</td><td>&quot;20/05/2025&quot;</td><td>&quot;Diário de Justiça Eletrônico N…</td><td>&quot;3000148-32.2025.8.06.0004&quot;</td><td>[{&quot;P&quot;,&quot;BANCO BRADESCO S.A.&quot;,274015671}, {&quot;P&quot;,&quot;ITAU UNIBANCO S.A.&quot;,274015671}, {&quot;A&quot;,&quot;MANUEL LUIS DA ROCHA NETO&quot;,274015671}]</td><td>[{459209139,274015671,4411,&quot;2025-05-19T11:23:26&quot;,&quot;2025-05-19T11:23:26&quot;,{4411,&quot;ENY ANGE SOLEDADE BITTENCOURT DE ARAUJO&quot;,&quot;29442&quot;,&quot;BA&quot;}}, {459209137,274015671,20322,&quot;2025-05-19T11:23:26&quot;,&quot;2025-05-19T11:23:26&quot;,{20322,&quot;MANUEL LUIS DA ROCHA NETO&quot;,&quot;7479&quot;,&quot;CE&quot;}}, … {459209140,274015671,941902,&quot;2025-05-19T11:23:26&quot;,&quot;2025-05-19T11:23:26&quot;,{941902,&quot;THIAGO BARREIRA ROMCY&quot;,&quot;23900&quot;,&quot;CE&quot;}}]</td></tr><tr><td>&hellip;</td><td>&hellip;</td><td>&hellip;</td><td>&hellip;</td><td>&hellip;</td><td>&hellip;</td><td>&hellip;</td><td>&hellip;</td><td>&hellip;</td><td>&hellip;</td><td>&hellip;</td><td>&hellip;</td><td>&hellip;</td><td>&hellip;</td><td>&hellip;</td><td>&hellip;</td><td>&hellip;</td><td>&hellip;</td><td>&hellip;</td><td>&hellip;</td><td>&hellip;</td><td>&hellip;</td><td>&hellip;</td></tr><tr><td>274654853</td><td>&quot;2025-05-20&quot;</td><td>&quot;TJGO&quot;</td><td>&quot;Intimação&quot;</td><td>&quot;Goianésia - Juizado Especial C…</td><td>&quot;PODER JUDICI&amp;Aacute;RIOComarca…</td><td>&quot;57277901120248090050&quot;</td><td>&quot;D&quot;</td><td>&quot;https://projudi.tjgo.jus.br/p?…</td><td>&quot;Sentença&quot;</td><td>&quot;PROCEDIMENTO DO JUIZADO ESPECI…</td><td>&quot;436&quot;</td><td>31453</td><td>true</td><td>&quot;AOMEBVQ8Rp7fLNWUmTWGPaDYd9l2za&quot;</td><td>&quot;P&quot;</td><td>null</td><td>null</td><td>&quot;20/05/2025&quot;</td><td>&quot;Diário de Justiça Eletrônico N…</td><td>&quot;5727790-11.2024.8.09.0050&quot;</td><td>[{&quot;P&quot;,&quot;BANCO MERCANTIL DO BRASIL SA&quot;,274654853}, {&quot;A&quot;,&quot;FRANCISLEI CESAR MENDONCA&quot;,274654853}, {&quot;P&quot;,&quot;NEON PAGAMENTOS SA INSTITUICAO DE PAGAMENTO&quot;,274654853}]</td><td>[{460552653,274654853,3268212,&quot;2025-05-19T18:30:35&quot;,&quot;2025-05-19T18:30:35&quot;,{3268212,&quot;CARLOS ALBERTO BAIÃO&quot;,&quot;45160&quot;,&quot;GO&quot;}}, {460552655,274654853,1452712,&quot;2025-05-19T18:30:35&quot;,&quot;2025-05-19T18:30:35&quot;,{1452712,&quot;GILMAR NASCIMENTO DE FARIA&quot;,&quot;64247&quot;,&quot;GO&quot;}}, … {460552652,274654853,1129060,&quot;2025-05-19T18:30:35&quot;,&quot;2025-05-19T18:30:35&quot;,{1129060,&quot;GLEIDSON HENRIQUE ANTUNES DE ANDRADE&quot;,&quot;39222&quot;,&quot;GO&quot;}}]</td></tr><tr><td>272942112</td><td>&quot;2025-05-19&quot;</td><td>&quot;TRF1&quot;</td><td>&quot;Intimação&quot;</td><td>&quot;Juizado Especial Cível e Crimi…</td><td>&quot;PODER JUDICIÁRIO JUSTIÇA FEDER…</td><td>&quot;10081848420244013309&quot;</td><td>&quot;D&quot;</td><td>&quot;https://pje1g.trf1.jus.br:443/…</td><td>&quot;Sentença Tipo A&quot;</td><td>&quot;PROCEDIMENTO DO JUIZADO ESPECI…</td><td>&quot;436&quot;</td><td>9914</td><td>true</td><td>&quot;2wyKMz7lRxnUm4MHyTKB8OwZEJaAPk&quot;</td><td>&quot;P&quot;</td><td>null</td><td>null</td><td>&quot;19/05/2025&quot;</td><td>&quot;Diário de Justiça Eletrônico N…</td><td>&quot;1008184-84.2024.4.01.3309&quot;</td><td>[{&quot;A&quot;,&quot;GILVAN DA SILVA LIMA&quot;,272942112}]</td><td>[{457280272,272942112,692460,&quot;2025-05-16T17:01:24&quot;,&quot;2025-05-16T17:01:24&quot;,{692460,&quot;THARLEY FLAVIANO RODRIGUES&quot;,&quot;208808&quot;,&quot;MG&quot;}}, {457280269,272942112,805021,&quot;2025-05-16T17:01:24&quot;,&quot;2025-05-16T17:01:24&quot;,{805021,&quot;LUCAS CASTANHEIRA DOS SANTOS&quot;,&quot;211784&quot;,&quot;MG&quot;}}]</td></tr><tr><td>272852706</td><td>&quot;2025-05-19&quot;</td><td>&quot;TJRJ&quot;</td><td>&quot;Intimação&quot;</td><td>&quot;2ª Vara Cível da Regional do M…</td><td>&quot;Poder Judiciário do Estado do …</td><td>&quot;08274061320238190208&quot;</td><td>&quot;D&quot;</td><td>&quot;https://tjrj.pje.jus.br/1g/Pro…</td><td>&quot;Sentença&quot;</td><td>&quot;PROCEDIMENTO COMUM CíVEL&quot;</td><td>&quot;7&quot;</td><td>17752</td><td>true</td><td>&quot;qMO79lz3RPlf3wXf3TgyoMERmDByKE&quot;</td><td>&quot;P&quot;</td><td>null</td><td>null</td><td>&quot;19/05/2025&quot;</td><td>&quot;Diário de Justiça Eletrônico N…</td><td>&quot;0827406-13.2023.8.19.0208&quot;</td><td>[{&quot;P&quot;,&quot;FACEBOOK SERVICOS ONLINE DO BRASIL LTDA.&quot;,272852706}, {&quot;A&quot;,&quot;MARCIO BARBOSA DE MELO&quot;,272852706}]</td><td>[{457083555,272852706,1342943,&quot;2025-05-16T15:52:03&quot;,&quot;2025-05-16T15:52:03&quot;,{1342943,&quot;THIAGO MARTINS DE PAULA&quot;,&quot;180702&quot;,&quot;RJ&quot;}}, {457083552,272852706,6289,&quot;2025-05-16T15:52:03&quot;,&quot;2025-05-16T15:52:03&quot;,{6289,&quot;CELSO DE FARIA MONTEIRO&quot;,&quot;138436&quot;,&quot;SP&quot;}}]</td></tr><tr><td>273432837</td><td>&quot;2025-05-19&quot;</td><td>&quot;TJRS&quot;</td><td>&quot;Intimação&quot;</td><td>&quot;4ª Turma Recursal Cível&quot;</td><td>&quot;&lt;html&gt;\n",
       "&nbsp;&nbsp;&nbsp;&nbsp;&nbsp;&nbsp;&nbsp;&nbsp;&lt;head&gt;\n",
       "\t\t&lt;meta&gt;…</td><td>&quot;50207600820238210004&quot;</td><td>&quot;D&quot;</td><td>&quot;https://eproc1g.tjrs.jus.br/ep…</td><td>&quot;Acórdão&quot;</td><td>&quot;RECURSO INOMINADO CíVEL&quot;</td><td>&quot;460&quot;</td><td>52537</td><td>true</td><td>&quot;Ly1D82wNYyXuLkyUnTkgOMPZ5eBjo9&quot;</td><td>&quot;P&quot;</td><td>null</td><td>null</td><td>&quot;19/05/2025&quot;</td><td>&quot;Diário de Justiça Eletrônico N…</td><td>&quot;5020760-08.2023.8.21.0004&quot;</td><td>[{&quot;P&quot;,&quot;BANCO DO BRASIL S/A&quot;,273432837}, {&quot;P&quot;,&quot;BANCO PAN S.A.&quot;,273432837}, {&quot;A&quot;,&quot;JOSE ITAMAR ZAGO DOS SANTOS&quot;,273432837}]</td><td>[{458174537,273432837,1392548,&quot;2025-05-17T11:35:43&quot;,&quot;2025-05-17T11:35:43&quot;,{1392548,&quot;JULIA GOULART AZAMBUJA&quot;,&quot;PR109376&quot;,&quot;PR&quot;}}, {458174538,273432837,373316,&quot;2025-05-17T11:35:43&quot;,&quot;2025-05-17T11:35:43&quot;,{373316,&quot;EDUARDO DA SILVA FUCHS FILHO&quot;,&quot;RS093435&quot;,&quot;RS&quot;}}, … {458174536,273432837,505935,&quot;2025-05-17T11:35:43&quot;,&quot;2025-05-17T11:35:43&quot;,{505935,&quot;SERVIO TULIO DE BARCELOS&quot;,&quot;RS095803&quot;,&quot;RS&quot;}}]</td></tr><tr><td>273431811</td><td>&quot;2025-05-19&quot;</td><td>&quot;TJSP&quot;</td><td>&quot;Intimação&quot;</td><td>&quot;Foro Central Cível - 36ª Vara …</td><td>&quot;ADV: NEY JOSÉ CAMPOS (OAB 4424…</td><td>&quot;10820632220248260100&quot;</td><td>&quot;D&quot;</td><td>&quot;https://www.dje.tjsp.jus.br&quot;</td><td>&quot;Intimação&quot;</td><td>&quot;PROCEDIMENTO COMUM CíVEL&quot;</td><td>&quot;7&quot;</td><td>79315</td><td>true</td><td>&quot;rEbP1yJdYlOsMXAF1T7EKkDZeXxa8G&quot;</td><td>&quot;P&quot;</td><td>null</td><td>null</td><td>&quot;19/05/2025&quot;</td><td>&quot;Diário de Justiça Eletrônico N…</td><td>&quot;1082063-22.2024.8.26.0100&quot;</td><td>[{&quot;P&quot;,&quot;BANCO SANTANDER (BRASIL) S.A.&quot;,273431811}, {&quot;A&quot;,&quot;ELOIR FERREIRA DOS SANTOS&quot;,273431811}]</td><td>[{458172824,273431811,889971,&quot;2025-05-17T11:31:48&quot;,&quot;2025-05-17T11:31:48&quot;,{889971,&quot;LUIZ GUSTAVO DE CASTRO CAMPOS ROCHA&quot;,&quot;466661&quot;,&quot;SP&quot;}}, {458172823,273431811,455196,&quot;2025-05-17T11:31:48&quot;,&quot;2025-05-17T11:31:48&quot;,{455196,&quot;HOMERO MARIANO DE CARVALHO&quot;,&quot;423522&quot;,&quot;SP&quot;}}, … {458172825,273431811,2150238,&quot;2025-05-17T11:31:48&quot;,&quot;2025-05-17T11:31:48&quot;,{2150238,&quot;NEY JOSÉ CAMPOS&quot;,&quot;44243&quot;,&quot;MG&quot;}}]</td></tr></tbody></table></div>"
      ],
      "text/plain": [
       "shape: (14, 23)\n",
       "┌───────────┬───────────┬───────────┬───────────┬───┬───────────┬───────────┬───────────┬──────────┐\n",
       "│ id        ┆ data_disp ┆ siglaTrib ┆ tipoComun ┆ … ┆ meiocompl ┆ numeropro ┆ destinata ┆ destinat │\n",
       "│ ---       ┆ onibiliza ┆ unal      ┆ icacao    ┆   ┆ eto       ┆ cessocomm ┆ rios      ┆ arioadvo │\n",
       "│ i64       ┆ cao       ┆ ---       ┆ ---       ┆   ┆ ---       ┆ ascara    ┆ ---       ┆ gados    │\n",
       "│           ┆ ---       ┆ str       ┆ str       ┆   ┆ str       ┆ ---       ┆ list[stru ┆ ---      │\n",
       "│           ┆ str       ┆           ┆           ┆   ┆           ┆ str       ┆ ct[3]]    ┆ list[str │\n",
       "│           ┆           ┆           ┆           ┆   ┆           ┆           ┆           ┆ uct[6]]  │\n",
       "╞═══════════╪═══════════╪═══════════╪═══════════╪═══╪═══════════╪═══════════╪═══════════╪══════════╡\n",
       "│ 273909030 ┆ 2025-05-2 ┆ TJRN      ┆ Intimação ┆ … ┆ Diário de ┆ 0806775-4 ┆ [{\"A\",\"AN ┆ [{458989 │\n",
       "│           ┆ 0         ┆           ┆           ┆   ┆ Justiça   ┆ 6.2025.8. ┆ DREY      ┆ 761,2739 │\n",
       "│           ┆           ┆           ┆           ┆   ┆ Eletrônic ┆ 20.5124   ┆ JERONIMO  ┆ 09030,85 │\n",
       "│           ┆           ┆           ┆           ┆   ┆ o N…      ┆           ┆ LEIRIAS…  ┆ 3171,\"…  │\n",
       "│ 273909560 ┆ 2025-05-2 ┆ TJRN      ┆ Intimação ┆ … ┆ Diário de ┆ 0806775-4 ┆ [{\"P\",\"NU ┆ [{458990 │\n",
       "│           ┆ 0         ┆           ┆           ┆   ┆ Justiça   ┆ 6.2025.8. ┆ PAGAMENTO ┆ 643,2739 │\n",
       "│           ┆           ┆           ┆           ┆   ┆ Eletrônic ┆ 20.5124   ┆ S S.A.\",2 ┆ 09560,39 │\n",
       "│           ┆           ┆           ┆           ┆   ┆ o N…      ┆           ┆ 73…       ┆ 35,\"20…  │\n",
       "│ 273927798 ┆ 2025-05-2 ┆ TJGO      ┆ Intimação ┆ … ┆ Diário de ┆ 5233384-2 ┆ [{\"P\",\"BA ┆ [{459034 │\n",
       "│           ┆ 0         ┆           ┆           ┆   ┆ Justiça   ┆ 6.2025.8. ┆ NCO       ┆ 927,2739 │\n",
       "│           ┆           ┆           ┆           ┆   ┆ Eletrônic ┆ 09.0051   ┆ BRADESCO  ┆ 27798,11 │\n",
       "│           ┆           ┆           ┆           ┆   ┆ o N…      ┆           ┆ S.A.\",27… ┆ 23322,…  │\n",
       "│ 274015630 ┆ 2025-05-2 ┆ TJCE      ┆ Intimação ┆ … ┆ Diário de ┆ 3000148-3 ┆ [{\"P\",\"BA ┆ [{459209 │\n",
       "│           ┆ 0         ┆           ┆           ┆   ┆ Justiça   ┆ 2.2025.8. ┆ NCO       ┆ 059,2740 │\n",
       "│           ┆           ┆           ┆           ┆   ┆ Eletrônic ┆ 06.0004   ┆ BRADESCO  ┆ 15630,12 │\n",
       "│           ┆           ┆           ┆           ┆   ┆ o N…      ┆           ┆ S.A.\",27… ┆ 93384,…  │\n",
       "│ 274015671 ┆ 2025-05-2 ┆ TJCE      ┆ Intimação ┆ … ┆ Diário de ┆ 3000148-3 ┆ [{\"P\",\"BA ┆ [{459209 │\n",
       "│           ┆ 0         ┆           ┆           ┆   ┆ Justiça   ┆ 2.2025.8. ┆ NCO       ┆ 139,2740 │\n",
       "│           ┆           ┆           ┆           ┆   ┆ Eletrônic ┆ 06.0004   ┆ BRADESCO  ┆ 15671,44 │\n",
       "│           ┆           ┆           ┆           ┆   ┆ o N…      ┆           ┆ S.A.\",27… ┆ 11,\"20…  │\n",
       "│ …         ┆ …         ┆ …         ┆ …         ┆ … ┆ …         ┆ …         ┆ …         ┆ …        │\n",
       "│ 274654853 ┆ 2025-05-2 ┆ TJGO      ┆ Intimação ┆ … ┆ Diário de ┆ 5727790-1 ┆ [{\"P\",\"BA ┆ [{460552 │\n",
       "│           ┆ 0         ┆           ┆           ┆   ┆ Justiça   ┆ 1.2024.8. ┆ NCO       ┆ 653,2746 │\n",
       "│           ┆           ┆           ┆           ┆   ┆ Eletrônic ┆ 09.0050   ┆ MERCANTIL ┆ 54853,32 │\n",
       "│           ┆           ┆           ┆           ┆   ┆ o N…      ┆           ┆ DO BRAS…  ┆ 68212,…  │\n",
       "│ 272942112 ┆ 2025-05-1 ┆ TRF1      ┆ Intimação ┆ … ┆ Diário de ┆ 1008184-8 ┆ [{\"A\",\"GI ┆ [{457280 │\n",
       "│           ┆ 9         ┆           ┆           ┆   ┆ Justiça   ┆ 4.2024.4. ┆ LVAN DA   ┆ 272,2729 │\n",
       "│           ┆           ┆           ┆           ┆   ┆ Eletrônic ┆ 01.3309   ┆ SILVA     ┆ 42112,69 │\n",
       "│           ┆           ┆           ┆           ┆   ┆ o N…      ┆           ┆ LIMA\",2…  ┆ 2460,\"…  │\n",
       "│ 272852706 ┆ 2025-05-1 ┆ TJRJ      ┆ Intimação ┆ … ┆ Diário de ┆ 0827406-1 ┆ [{\"P\",\"FA ┆ [{457083 │\n",
       "│           ┆ 9         ┆           ┆           ┆   ┆ Justiça   ┆ 3.2023.8. ┆ CEBOOK    ┆ 555,2728 │\n",
       "│           ┆           ┆           ┆           ┆   ┆ Eletrônic ┆ 19.0208   ┆ SERVICOS  ┆ 52706,13 │\n",
       "│           ┆           ┆           ┆           ┆   ┆ o N…      ┆           ┆ ONLIN…    ┆ 42943,…  │\n",
       "│ 273432837 ┆ 2025-05-1 ┆ TJRS      ┆ Intimação ┆ … ┆ Diário de ┆ 5020760-0 ┆ [{\"P\",\"BA ┆ [{458174 │\n",
       "│           ┆ 9         ┆           ┆           ┆   ┆ Justiça   ┆ 8.2023.8. ┆ NCO DO    ┆ 537,2734 │\n",
       "│           ┆           ┆           ┆           ┆   ┆ Eletrônic ┆ 21.0004   ┆ BRASIL    ┆ 32837,13 │\n",
       "│           ┆           ┆           ┆           ┆   ┆ o N…      ┆           ┆ S/A\",27…  ┆ 92548,…  │\n",
       "│ 273431811 ┆ 2025-05-1 ┆ TJSP      ┆ Intimação ┆ … ┆ Diário de ┆ 1082063-2 ┆ [{\"P\",\"BA ┆ [{458172 │\n",
       "│           ┆ 9         ┆           ┆           ┆   ┆ Justiça   ┆ 2.2024.8. ┆ NCO       ┆ 824,2734 │\n",
       "│           ┆           ┆           ┆           ┆   ┆ Eletrônic ┆ 26.0100   ┆ SANTANDER ┆ 31811,88 │\n",
       "│           ┆           ┆           ┆           ┆   ┆ o N…      ┆           ┆ (BRASIL…  ┆ 9971,\"…  │\n",
       "└───────────┴───────────┴───────────┴───────────┴───┴───────────┴───────────┴───────────┴──────────┘"
      ]
     },
     "execution_count": 4,
     "metadata": {},
     "output_type": "execute_result"
    }
   ],
   "source": [
    "dados_cnj"
   ]
  }
 ],
 "metadata": {
  "kernelspec": {
   "display_name": ".venv",
   "language": "python",
   "name": "python3"
  },
  "language_info": {
   "codemirror_mode": {
    "name": "ipython",
    "version": 3
   },
   "file_extension": ".py",
   "mimetype": "text/x-python",
   "name": "python",
   "nbconvert_exporter": "python",
   "pygments_lexer": "ipython3",
   "version": "3.12.3"
  }
 },
 "nbformat": 4,
 "nbformat_minor": 5
}
