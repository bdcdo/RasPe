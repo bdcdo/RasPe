{
 "cells": [
  {
   "cell_type": "code",
   "execution_count": 1,
   "id": "8acaba94",
   "metadata": {},
   "outputs": [],
   "source": [
    "import legiscraper as legis "
   ]
  },
  {
   "cell_type": "code",
   "execution_count": 2,
   "id": "c195d3cb",
   "metadata": {},
   "outputs": [
    {
     "name": "stderr",
     "output_type": "stream",
     "text": [
      "2025-05-29 18:51:10,587 - PRESIDENCIA - DEBUG - Download path set to /tmp/tmpgdgml596\n"
     ]
    }
   ],
   "source": [
    "scraper_atual = legis.scraper('PRESIDENCIA')"
   ]
  },
  {
   "cell_type": "code",
   "execution_count": 3,
   "id": "7b76f03d",
   "metadata": {},
   "outputs": [
    {
     "name": "stderr",
     "output_type": "stream",
     "text": [
      "2025-05-29 18:51:12,561 - PRESIDENCIA - INFO - Starting scrape with parameters {'pesquisa': 'doença raras'}\n",
      "2025-05-29 18:51:12,565 - PRESIDENCIA - DEBUG - Setting query\n",
      "2025-05-29 18:51:12,567 - PRESIDENCIA - DEBUG - {'termo': 'doença raras', 'ordenacao': 'maior_data', 'posicao': '0'}\n",
      "2025-05-29 18:51:12,570 - PRESIDENCIA - DEBUG - Setting n_pags\n",
      "2025-05-29 18:51:12,571 - PRESIDENCIA - DEBUG - Sending r0 (attempt 1/3)\n",
      "2025-05-29 18:51:13,403 - PRESIDENCIA - DEBUG - Finding n_pags\n",
      "2025-05-29 18:51:13,635 - PRESIDENCIA - DEBUG - Found h4 text: '123 resultados encontrados'\n",
      "2025-05-29 18:51:13,637 - PRESIDENCIA - DEBUG - Extracted number of results: 123\n",
      "2025-05-29 18:51:13,639 - PRESIDENCIA - DEBUG - Calculated pages: 13\n",
      "2025-05-29 18:51:13,640 - PRESIDENCIA - DEBUG - Found 13 pages for query {'termo': 'doença raras', 'ordenacao': 'maior_data', 'posicao': '0'}\n",
      "2025-05-29 18:51:13,641 - PRESIDENCIA - DEBUG - Setting paginas\n",
      "2025-05-29 18:51:13,644 - PRESIDENCIA - DEBUG - Created download directory at /tmp/tmpgdgml596/PRESIDENCIA/20250529185113\n",
      "Baixando documentos:   0%|          | 0/13 [00:00<?, ?it/s]2025-05-29 18:51:15,656 - PRESIDENCIA - DEBUG - Downloading page 1\n",
      "2025-05-29 18:51:15,657 - PRESIDENCIA - DEBUG - {'termo': 'doença raras', 'ordenacao': 'maior_data', 'posicao': 0}\n",
      "2025-05-29 18:51:16,067 - PRESIDENCIA - DEBUG - <Response [200]>\n",
      "Baixando documentos:   8%|▊         | 1/13 [00:02<00:28,  2.41s/it]2025-05-29 18:51:18,070 - PRESIDENCIA - DEBUG - Downloading page 2\n",
      "2025-05-29 18:51:18,072 - PRESIDENCIA - DEBUG - {'termo': 'doença raras', 'ordenacao': 'maior_data', 'posicao': 10}\n",
      "2025-05-29 18:51:18,434 - PRESIDENCIA - DEBUG - <Response [200]>\n",
      "Baixando documentos:  15%|█▌        | 2/13 [00:04<00:26,  2.39s/it]2025-05-29 18:51:20,438 - PRESIDENCIA - DEBUG - Downloading page 3\n",
      "2025-05-29 18:51:20,439 - PRESIDENCIA - DEBUG - {'termo': 'doença raras', 'ordenacao': 'maior_data', 'posicao': 20}\n",
      "2025-05-29 18:51:20,879 - PRESIDENCIA - DEBUG - <Response [200]>\n",
      "Baixando documentos:  23%|██▎       | 3/13 [00:07<00:24,  2.41s/it]2025-05-29 18:51:22,883 - PRESIDENCIA - DEBUG - Downloading page 4\n",
      "2025-05-29 18:51:22,884 - PRESIDENCIA - DEBUG - {'termo': 'doença raras', 'ordenacao': 'maior_data', 'posicao': 30}\n",
      "2025-05-29 18:51:24,524 - PRESIDENCIA - DEBUG - <Response [200]>\n",
      "Baixando documentos:  31%|███       | 4/13 [00:10<00:26,  2.90s/it]2025-05-29 18:51:26,527 - PRESIDENCIA - DEBUG - Downloading page 5\n",
      "2025-05-29 18:51:26,529 - PRESIDENCIA - DEBUG - {'termo': 'doença raras', 'ordenacao': 'maior_data', 'posicao': 40}\n",
      "2025-05-29 18:51:26,919 - PRESIDENCIA - DEBUG - <Response [200]>\n",
      "Baixando documentos:  38%|███▊      | 5/13 [00:13<00:21,  2.72s/it]2025-05-29 18:51:28,923 - PRESIDENCIA - DEBUG - Downloading page 6\n",
      "2025-05-29 18:51:28,924 - PRESIDENCIA - DEBUG - {'termo': 'doença raras', 'ordenacao': 'maior_data', 'posicao': 50}\n",
      "2025-05-29 18:51:29,280 - PRESIDENCIA - DEBUG - <Response [200]>\n",
      "Baixando documentos:  46%|████▌     | 6/13 [00:15<00:18,  2.60s/it]2025-05-29 18:51:31,284 - PRESIDENCIA - DEBUG - Downloading page 7\n",
      "2025-05-29 18:51:31,285 - PRESIDENCIA - DEBUG - {'termo': 'doença raras', 'ordenacao': 'maior_data', 'posicao': 60}\n",
      "2025-05-29 18:51:31,801 - PRESIDENCIA - DEBUG - <Response [200]>\n",
      "Baixando documentos:  54%|█████▍    | 7/13 [00:18<00:15,  2.57s/it]2025-05-29 18:51:33,805 - PRESIDENCIA - DEBUG - Downloading page 8\n",
      "2025-05-29 18:51:33,807 - PRESIDENCIA - DEBUG - {'termo': 'doença raras', 'ordenacao': 'maior_data', 'posicao': 70}\n",
      "2025-05-29 18:51:34,095 - PRESIDENCIA - DEBUG - <Response [200]>\n",
      "Baixando documentos:  62%|██████▏   | 8/13 [00:20<00:12,  2.48s/it]2025-05-29 18:51:36,098 - PRESIDENCIA - DEBUG - Downloading page 9\n",
      "2025-05-29 18:51:36,100 - PRESIDENCIA - DEBUG - {'termo': 'doença raras', 'ordenacao': 'maior_data', 'posicao': 80}\n",
      "2025-05-29 18:51:36,449 - PRESIDENCIA - DEBUG - <Response [200]>\n",
      "Baixando documentos:  69%|██████▉   | 9/13 [00:22<00:09,  2.44s/it]2025-05-29 18:51:38,453 - PRESIDENCIA - DEBUG - Downloading page 10\n",
      "2025-05-29 18:51:38,454 - PRESIDENCIA - DEBUG - {'termo': 'doença raras', 'ordenacao': 'maior_data', 'posicao': 90}\n",
      "2025-05-29 18:51:38,801 - PRESIDENCIA - DEBUG - <Response [200]>\n",
      "Baixando documentos:  77%|███████▋  | 10/13 [00:25<00:07,  2.41s/it]2025-05-29 18:51:40,804 - PRESIDENCIA - DEBUG - Downloading page 11\n",
      "2025-05-29 18:51:40,805 - PRESIDENCIA - DEBUG - {'termo': 'doença raras', 'ordenacao': 'maior_data', 'posicao': 100}\n",
      "2025-05-29 18:51:41,164 - PRESIDENCIA - DEBUG - <Response [200]>\n",
      "Baixando documentos:  85%|████████▍ | 11/13 [00:27<00:04,  2.40s/it]2025-05-29 18:51:43,168 - PRESIDENCIA - DEBUG - Downloading page 12\n",
      "2025-05-29 18:51:43,169 - PRESIDENCIA - DEBUG - {'termo': 'doença raras', 'ordenacao': 'maior_data', 'posicao': 110}\n",
      "2025-05-29 18:51:43,512 - PRESIDENCIA - DEBUG - <Response [200]>\n",
      "Baixando documentos:  92%|█████████▏| 12/13 [00:29<00:02,  2.38s/it]2025-05-29 18:51:45,515 - PRESIDENCIA - DEBUG - Downloading page 13\n",
      "2025-05-29 18:51:45,516 - PRESIDENCIA - DEBUG - {'termo': 'doença raras', 'ordenacao': 'maior_data', 'posicao': 120}\n",
      "2025-05-29 18:51:45,872 - PRESIDENCIA - DEBUG - <Response [200]>\n",
      "Baixando documentos: 100%|██████████| 13/13 [00:32<00:00,  2.48s/it]\n",
      "2025-05-29 18:51:45,877 - PRESIDENCIA - DEBUG - Parsing data\n",
      "Processando documentos:   0%|          | 0/13 [00:00<?, ?it/s]/home/bdcdo/Desktop/dev/legiscraper/.venv/lib/python3.12/site-packages/legiscraper/scraper_presidencia.py:105: DataOrientationWarning: Row orientation inferred during DataFrame construction. Explicitly specify the orientation by passing `orient=\"row\"` to silence this warning.\n",
      "  return pl.DataFrame(lista_infos, schema=columns)\n",
      "Processando documentos: 100%|██████████| 13/13 [00:00<00:00, 38.92it/s]\n",
      "2025-05-29 18:51:46,219 - PRESIDENCIA - INFO - Scrape finished, cleaning up directory /tmp/tmpgdgml596/PRESIDENCIA/20250529185113\n"
     ]
    }
   ],
   "source": [
    "dados = scraper_atual.scrape(pesquisa='doença raras')"
   ]
  },
  {
   "cell_type": "code",
   "execution_count": 6,
   "id": "4953c7d7",
   "metadata": {},
   "outputs": [],
   "source": [
    "dados.write_csv('scrape_teste.csv')"
   ]
  }
 ],
 "metadata": {
  "kernelspec": {
   "display_name": ".venv",
   "language": "python",
   "name": "python3"
  },
  "language_info": {
   "codemirror_mode": {
    "name": "ipython",
    "version": 3
   },
   "file_extension": ".py",
   "mimetype": "text/x-python",
   "name": "python",
   "nbconvert_exporter": "python",
   "pygments_lexer": "ipython3",
   "version": "3.12.3"
  }
 },
 "nbformat": 4,
 "nbformat_minor": 5
}
