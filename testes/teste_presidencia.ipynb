{
 "cells": [
  {
   "cell_type": "code",
   "execution_count": 1,
   "id": "8acaba94",
   "metadata": {},
   "outputs": [],
   "source": [
    "import legiscraper as legis "
   ]
  },
  {
   "cell_type": "code",
   "execution_count": 2,
   "id": "c195d3cb",
   "metadata": {},
   "outputs": [
    {
     "name": "stderr",
     "output_type": "stream",
     "text": [
      "2025-05-29 20:02:43,633 - PRESIDENCIA - DEBUG - Download path set to /tmp/tmpbxu0bycs\n"
     ]
    },
    {
     "ename": "TypeError",
     "evalue": "BaseScraper._set_headers() missing 1 required positional argument: 'headers_scraper'",
     "output_type": "error",
     "traceback": [
      "\u001b[31m---------------------------------------------------------------------------\u001b[39m",
      "\u001b[31mTypeError\u001b[39m                                 Traceback (most recent call last)",
      "\u001b[36mCell\u001b[39m\u001b[36m \u001b[39m\u001b[32mIn[2]\u001b[39m\u001b[32m, line 1\u001b[39m\n\u001b[32m----> \u001b[39m\u001b[32m1\u001b[39m scraper_atual = \u001b[43mlegis\u001b[49m\u001b[43m.\u001b[49m\u001b[43mscraper\u001b[49m\u001b[43m(\u001b[49m\u001b[33;43m'\u001b[39;49m\u001b[33;43mPRESIDENCIA\u001b[39;49m\u001b[33;43m'\u001b[39;49m\u001b[43m)\u001b[49m\n",
      "\u001b[36mFile \u001b[39m\u001b[32m~/Desktop/dev/legiscraper/.venv/lib/python3.12/site-packages/legiscraper/scraper_manager.py:9\u001b[39m, in \u001b[36mscraper\u001b[39m\u001b[34m(nome_buscador, **kwargs)\u001b[39m\n\u001b[32m      6\u001b[39m nome_buscador = nome_buscador.upper()\n\u001b[32m      8\u001b[39m \u001b[38;5;28;01mif\u001b[39;00m nome_buscador == \u001b[33m\"\u001b[39m\u001b[33mPRESIDENCIA\u001b[39m\u001b[33m\"\u001b[39m:\n\u001b[32m----> \u001b[39m\u001b[32m9\u001b[39m     \u001b[38;5;28;01mreturn\u001b[39;00m \u001b[43mScraperPresidencia\u001b[49m\u001b[43m(\u001b[49m\u001b[43m*\u001b[49m\u001b[43m*\u001b[49m\u001b[43mkwargs\u001b[49m\u001b[43m)\u001b[49m\n\u001b[32m     10\u001b[39m \u001b[38;5;28;01melif\u001b[39;00m nome_buscador == \u001b[33m\"\u001b[39m\u001b[33mCNJ\u001b[39m\u001b[33m\"\u001b[39m:\n\u001b[32m     11\u001b[39m     \u001b[38;5;28;01mreturn\u001b[39;00m comunicaCNJ_Scraper(**kwargs)\n",
      "\u001b[36mFile \u001b[39m\u001b[32m~/Desktop/dev/legiscraper/.venv/lib/python3.12/site-packages/legiscraper/scraper_presidencia.py:13\u001b[39m, in \u001b[36mScraperPresidencia.__init__\u001b[39m\u001b[34m(self, download_path)\u001b[39m\n\u001b[32m     11\u001b[39m \u001b[38;5;28mself\u001b[39m.api_base = \u001b[33m\"\u001b[39m\u001b[33mhttps://legislacao.presidencia.gov.br/pesquisa/ajax/resultado_pesquisa_legislacao.php\u001b[39m\u001b[33m\"\u001b[39m\n\u001b[32m     12\u001b[39m \u001b[38;5;28mself\u001b[39m._set_download_path(download_path)\n\u001b[32m---> \u001b[39m\u001b[32m13\u001b[39m \u001b[38;5;28;43mself\u001b[39;49m\u001b[43m.\u001b[49m\u001b[43m_set_headers\u001b[49m\u001b[43m(\u001b[49m\u001b[43m)\u001b[49m\n\u001b[32m     14\u001b[39m \u001b[38;5;28mself\u001b[39m.type = \u001b[33m'\u001b[39m\u001b[33mhtml\u001b[39m\u001b[33m'\u001b[39m\n\u001b[32m     15\u001b[39m \u001b[38;5;28mself\u001b[39m.query_page_name = \u001b[33m'\u001b[39m\u001b[33mposicao\u001b[39m\u001b[33m'\u001b[39m\n",
      "\u001b[31mTypeError\u001b[39m: BaseScraper._set_headers() missing 1 required positional argument: 'headers_scraper'"
     ]
    }
   ],
   "source": [
    "scraper_atual = legis.scraper('PRESIDENCIA')"
   ]
  },
  {
   "cell_type": "code",
   "execution_count": null,
   "id": "7b76f03d",
   "metadata": {},
   "outputs": [
    {
     "name": "stderr",
     "output_type": "stream",
     "text": [
      "2025-05-29 19:02:46,102 - PRESIDENCIA - INFO - Starting scrape with parameters {'pesquisa': 'doença raras'}\n",
      "2025-05-29 19:02:46,104 - PRESIDENCIA - DEBUG - Setting query\n",
      "2025-05-29 19:02:46,106 - PRESIDENCIA - DEBUG - {'termo': 'doença raras', 'ordenacao': 'maior_data', 'posicao': '0'}\n",
      "2025-05-29 19:02:46,107 - PRESIDENCIA - DEBUG - Setting n_pags\n",
      "2025-05-29 19:02:46,108 - PRESIDENCIA - DEBUG - Sending r0 (attempt 1/3)\n",
      "2025-05-29 19:02:46,647 - PRESIDENCIA - DEBUG - Finding n_pags\n",
      "2025-05-29 19:02:46,857 - PRESIDENCIA - DEBUG - Found h4 text: '123 resultados encontrados'\n",
      "2025-05-29 19:02:46,859 - PRESIDENCIA - DEBUG - Extracted number of results: 123\n",
      "2025-05-29 19:02:46,860 - PRESIDENCIA - DEBUG - Calculated pages: 13\n",
      "2025-05-29 19:02:46,862 - PRESIDENCIA - DEBUG - Found 13 pages for query {'termo': 'doença raras', 'ordenacao': 'maior_data', 'posicao': '0'}\n",
      "2025-05-29 19:02:46,863 - PRESIDENCIA - DEBUG - Setting paginas\n",
      "2025-05-29 19:02:46,865 - PRESIDENCIA - DEBUG - Created download directory at /tmp/tmp1dmt63ru/PRESIDENCIA/20250529190246\n",
      "Baixando documentos:   0%|          | 0/13 [00:00<?, ?it/s]2025-05-29 19:02:48,877 - PRESIDENCIA - DEBUG - Downloading page 1\n",
      "2025-05-29 19:02:48,878 - PRESIDENCIA - DEBUG - {'termo': 'doença raras', 'ordenacao': 'maior_data', 'posicao': 0}\n",
      "2025-05-29 19:02:49,146 - PRESIDENCIA - DEBUG - <Response [200]>\n",
      "Baixando documentos:   8%|▊         | 1/13 [00:02<00:27,  2.27s/it]2025-05-29 19:02:51,150 - PRESIDENCIA - DEBUG - Downloading page 2\n",
      "2025-05-29 19:02:51,151 - PRESIDENCIA - DEBUG - {'termo': 'doença raras', 'ordenacao': 'maior_data', 'posicao': 10}\n",
      "2025-05-29 19:02:51,568 - PRESIDENCIA - DEBUG - <Response [200]>\n",
      "Baixando documentos:  15%|█▌        | 2/13 [00:04<00:25,  2.36s/it]2025-05-29 19:02:53,572 - PRESIDENCIA - DEBUG - Downloading page 3\n",
      "2025-05-29 19:02:53,573 - PRESIDENCIA - DEBUG - {'termo': 'doença raras', 'ordenacao': 'maior_data', 'posicao': 20}\n",
      "2025-05-29 19:02:54,017 - PRESIDENCIA - DEBUG - <Response [200]>\n",
      "Baixando documentos:  23%|██▎       | 3/13 [00:07<00:24,  2.40s/it]2025-05-29 19:02:56,020 - PRESIDENCIA - DEBUG - Downloading page 4\n",
      "2025-05-29 19:02:56,022 - PRESIDENCIA - DEBUG - {'termo': 'doença raras', 'ordenacao': 'maior_data', 'posicao': 30}\n",
      "2025-05-29 19:02:56,577 - PRESIDENCIA - DEBUG - <Response [200]>\n",
      "Baixando documentos:  31%|███       | 4/13 [00:09<00:22,  2.46s/it]2025-05-29 19:02:58,581 - PRESIDENCIA - DEBUG - Downloading page 5\n",
      "2025-05-29 19:02:58,582 - PRESIDENCIA - DEBUG - {'termo': 'doença raras', 'ordenacao': 'maior_data', 'posicao': 40}\n",
      "2025-05-29 19:02:59,033 - PRESIDENCIA - DEBUG - <Response [200]>\n",
      "Baixando documentos:  38%|███▊      | 5/13 [00:12<00:19,  2.46s/it]2025-05-29 19:03:01,037 - PRESIDENCIA - DEBUG - Downloading page 6\n",
      "2025-05-29 19:03:01,038 - PRESIDENCIA - DEBUG - {'termo': 'doença raras', 'ordenacao': 'maior_data', 'posicao': 50}\n",
      "2025-05-29 19:03:01,391 - PRESIDENCIA - DEBUG - <Response [200]>\n",
      "Baixando documentos:  46%|████▌     | 6/13 [00:14<00:16,  2.43s/it]2025-05-29 19:03:03,395 - PRESIDENCIA - DEBUG - Downloading page 7\n",
      "2025-05-29 19:03:03,397 - PRESIDENCIA - DEBUG - {'termo': 'doença raras', 'ordenacao': 'maior_data', 'posicao': 60}\n",
      "2025-05-29 19:03:03,722 - PRESIDENCIA - DEBUG - <Response [200]>\n",
      "Baixando documentos:  54%|█████▍    | 7/13 [00:16<00:14,  2.39s/it]2025-05-29 19:03:05,726 - PRESIDENCIA - DEBUG - Downloading page 8\n",
      "2025-05-29 19:03:05,727 - PRESIDENCIA - DEBUG - {'termo': 'doença raras', 'ordenacao': 'maior_data', 'posicao': 70}\n",
      "2025-05-29 19:03:06,025 - PRESIDENCIA - DEBUG - <Response [200]>\n",
      "Baixando documentos:  62%|██████▏   | 8/13 [00:19<00:11,  2.37s/it]2025-05-29 19:03:08,029 - PRESIDENCIA - DEBUG - Downloading page 9\n",
      "2025-05-29 19:03:08,030 - PRESIDENCIA - DEBUG - {'termo': 'doença raras', 'ordenacao': 'maior_data', 'posicao': 80}\n",
      "2025-05-29 19:03:08,455 - PRESIDENCIA - DEBUG - <Response [200]>\n",
      "Baixando documentos:  69%|██████▉   | 9/13 [00:21<00:09,  2.39s/it]2025-05-29 19:03:10,459 - PRESIDENCIA - DEBUG - Downloading page 10\n",
      "2025-05-29 19:03:10,461 - PRESIDENCIA - DEBUG - {'termo': 'doença raras', 'ordenacao': 'maior_data', 'posicao': 90}\n",
      "2025-05-29 19:03:10,820 - PRESIDENCIA - DEBUG - <Response [200]>\n",
      "Baixando documentos:  77%|███████▋  | 10/13 [00:23<00:07,  2.38s/it]2025-05-29 19:03:12,824 - PRESIDENCIA - DEBUG - Downloading page 11\n",
      "2025-05-29 19:03:12,825 - PRESIDENCIA - DEBUG - {'termo': 'doença raras', 'ordenacao': 'maior_data', 'posicao': 100}\n",
      "2025-05-29 19:03:13,172 - PRESIDENCIA - DEBUG - <Response [200]>\n",
      "Baixando documentos:  85%|████████▍ | 11/13 [00:26<00:04,  2.37s/it]2025-05-29 19:03:15,175 - PRESIDENCIA - DEBUG - Downloading page 12\n",
      "2025-05-29 19:03:15,177 - PRESIDENCIA - DEBUG - {'termo': 'doença raras', 'ordenacao': 'maior_data', 'posicao': 110}\n",
      "2025-05-29 19:03:15,544 - PRESIDENCIA - DEBUG - <Response [200]>\n",
      "Baixando documentos:  92%|█████████▏| 12/13 [00:28<00:02,  2.37s/it]2025-05-29 19:03:17,547 - PRESIDENCIA - DEBUG - Downloading page 13\n",
      "2025-05-29 19:03:17,549 - PRESIDENCIA - DEBUG - {'termo': 'doença raras', 'ordenacao': 'maior_data', 'posicao': 120}\n",
      "2025-05-29 19:03:17,872 - PRESIDENCIA - DEBUG - <Response [200]>\n",
      "Baixando documentos: 100%|██████████| 13/13 [00:30<00:00,  2.38s/it]\n",
      "2025-05-29 19:03:17,877 - PRESIDENCIA - DEBUG - Parsing data\n",
      "Processando documentos:   0%|          | 0/13 [00:00<?, ?it/s]/home/bdcdo/Desktop/dev/legiscraper/.venv/lib/python3.12/site-packages/legiscraper/scraper_presidencia.py:109: DataOrientationWarning: Row orientation inferred during DataFrame construction. Explicitly specify the orientation by passing `orient=\"row\"` to silence this warning.\n",
      "  return pl.DataFrame(lista_infos, schema=columns)\n",
      "Processando documentos: 100%|██████████| 13/13 [00:00<00:00, 39.36it/s]\n",
      "2025-05-29 19:03:18,218 - PRESIDENCIA - INFO - Scrape finished, cleaning up directory /tmp/tmp1dmt63ru/PRESIDENCIA/20250529190246\n"
     ]
    }
   ],
   "source": [
    "dados = scraper_atual.scrape(pesquisa='doença raras', paginas=range(0,3))"
   ]
  },
  {
   "cell_type": "code",
   "execution_count": null,
   "id": "4953c7d7",
   "metadata": {},
   "outputs": [
    {
     "data": {
      "text/html": [
       "<div><style>\n",
       ".dataframe > thead > tr,\n",
       ".dataframe > tbody > tr {\n",
       "  text-align: right;\n",
       "  white-space: pre-wrap;\n",
       "}\n",
       "</style>\n",
       "<small>shape: (123, 5)</small><table border=\"1\" class=\"dataframe\"><thead><tr><th>nome</th><th>link</th><th>ficha</th><th>revogacao</th><th>descricao</th></tr><tr><td>str</td><td>str</td><td>str</td><td>str</td><td>str</td></tr></thead><tbody><tr><td>&quot;Decreto de 07 de novembro de 2…</td><td>&quot;https://www.planalto.gov.br/cc…</td><td>&quot;https://legislacao.presidencia…</td><td>&quot;Não consta revogação expressa&quot;</td><td>&quot;ABRE AO ORÇAMENTO FISCAL DA UN…</td></tr><tr><td>&quot;Decreto de 12 de dezembro de 2…</td><td>&quot;https://www.planalto.gov.br/cc…</td><td>&quot;https://legislacao.presidencia…</td><td>&quot;Não consta revogação expressa&quot;</td><td>&quot;ABRE AOS ORÇAMENTOS FISCAL E D…</td></tr><tr><td>&quot;Decreto de 16 de outubro de 20…</td><td>&quot;https://www.planalto.gov.br/cc…</td><td>&quot;https://legislacao.presidencia…</td><td>&quot;Não consta revogação expressa&quot;</td><td>&quot;ABRE AOS ORÇAMENTOS FISCAL E D…</td></tr><tr><td>&quot;Lei nº 12.663 de 05 de junho d…</td><td>&quot;https://www.planalto.gov.br/cc…</td><td>&quot;http://legislacao.planalto.gov…</td><td>&quot;Não consta revogação expressa&quot;</td><td>&quot;DISPÕE SOBRE AS MEDIDAS RELATI…</td></tr><tr><td>&quot;Lei nº 12.651 de 25 de maio de…</td><td>&quot;https://www.planalto.gov.br/cc…</td><td>&quot;http://legislacao.planalto.gov…</td><td>&quot;Não consta revogação expressa&quot;</td><td>&quot;DISPÕE SOBRE A PROTEÇÃO DA VEG…</td></tr><tr><td>&hellip;</td><td>&hellip;</td><td>&hellip;</td><td>&hellip;</td><td>&hellip;</td></tr><tr><td>&quot;Decreto nº 10.916 de 28 de dez…</td><td>&quot;https://www.planalto.gov.br/cc…</td><td>&quot;https://legislacao.presidencia…</td><td>&quot;Não consta revogação expressa&quot;</td><td>&quot;Altera o Decreto nº 10.558, de…</td></tr><tr><td>&quot;Decreto nº 10.770 de 17 de ago…</td><td>&quot;https://www.planalto.gov.br/cc…</td><td>&quot;https://legislacao.presidencia…</td><td>&quot;Não consta revogação expressa&quot;</td><td>&quot;Institui a Agenda Transversal …</td></tr><tr><td>&quot;Lei nº 14.133 de 01 de abril d…</td><td>&quot;https://www.planalto.gov.br/cc…</td><td>&quot;https://legislacao.presidencia…</td><td>&quot;Não consta revogação expressa&quot;</td><td>&quot;Lei de Licitações e Contratos …</td></tr><tr><td>&quot;Decreto nº 10.657 de 24 de mar…</td><td>&quot;https://www.planalto.gov.br/cc…</td><td>&quot;https://legislacao.presidencia…</td><td>&quot;Não consta revogação expressa&quot;</td><td>&quot;Institui a Política de Apoio a…</td></tr><tr><td>&quot;Decreto nº 10.627 de 12 de fev…</td><td>&quot;https://www.planalto.gov.br/cc…</td><td>&quot;https://legislacao.presidencia…</td><td>&quot;Não consta revogação expressa&quot;</td><td>&quot;Altera o Anexo I ao Decreto nº…</td></tr></tbody></table></div>"
      ],
      "text/plain": [
       "shape: (123, 5)\n",
       "┌─────────────────────┬─────────────────────┬────────────────────┬────────────┬────────────────────┐\n",
       "│ nome                ┆ link                ┆ ficha              ┆ revogacao  ┆ descricao          │\n",
       "│ ---                 ┆ ---                 ┆ ---                ┆ ---        ┆ ---                │\n",
       "│ str                 ┆ str                 ┆ str                ┆ str        ┆ str                │\n",
       "╞═════════════════════╪═════════════════════╪════════════════════╪════════════╪════════════════════╡\n",
       "│ Decreto de 07 de    ┆ https://www.planalt ┆ https://legislacao ┆ Não consta ┆ ABRE AO ORÇAMENTO  │\n",
       "│ novembro de 2…      ┆ o.gov.br/cc…        ┆ .presidencia…      ┆ revogação  ┆ FISCAL DA UN…      │\n",
       "│                     ┆                     ┆                    ┆ expressa   ┆                    │\n",
       "│ Decreto de 12 de    ┆ https://www.planalt ┆ https://legislacao ┆ Não consta ┆ ABRE AOS           │\n",
       "│ dezembro de 2…      ┆ o.gov.br/cc…        ┆ .presidencia…      ┆ revogação  ┆ ORÇAMENTOS FISCAL  │\n",
       "│                     ┆                     ┆                    ┆ expressa   ┆ E D…               │\n",
       "│ Decreto de 16 de    ┆ https://www.planalt ┆ https://legislacao ┆ Não consta ┆ ABRE AOS           │\n",
       "│ outubro de 20…      ┆ o.gov.br/cc…        ┆ .presidencia…      ┆ revogação  ┆ ORÇAMENTOS FISCAL  │\n",
       "│                     ┆                     ┆                    ┆ expressa   ┆ E D…               │\n",
       "│ Lei nº 12.663 de 05 ┆ https://www.planalt ┆ http://legislacao. ┆ Não consta ┆ DISPÕE SOBRE AS    │\n",
       "│ de junho d…         ┆ o.gov.br/cc…        ┆ planalto.gov…      ┆ revogação  ┆ MEDIDAS RELATI…    │\n",
       "│                     ┆                     ┆                    ┆ expressa   ┆                    │\n",
       "│ Lei nº 12.651 de 25 ┆ https://www.planalt ┆ http://legislacao. ┆ Não consta ┆ DISPÕE SOBRE A     │\n",
       "│ de maio de…         ┆ o.gov.br/cc…        ┆ planalto.gov…      ┆ revogação  ┆ PROTEÇÃO DA VEG…   │\n",
       "│                     ┆                     ┆                    ┆ expressa   ┆                    │\n",
       "│ …                   ┆ …                   ┆ …                  ┆ …          ┆ …                  │\n",
       "│ Decreto nº 10.916   ┆ https://www.planalt ┆ https://legislacao ┆ Não consta ┆ Altera o Decreto   │\n",
       "│ de 28 de dez…       ┆ o.gov.br/cc…        ┆ .presidencia…      ┆ revogação  ┆ nº 10.558, de…     │\n",
       "│                     ┆                     ┆                    ┆ expressa   ┆                    │\n",
       "│ Decreto nº 10.770   ┆ https://www.planalt ┆ https://legislacao ┆ Não consta ┆ Institui a Agenda  │\n",
       "│ de 17 de ago…       ┆ o.gov.br/cc…        ┆ .presidencia…      ┆ revogação  ┆ Transversal …      │\n",
       "│                     ┆                     ┆                    ┆ expressa   ┆                    │\n",
       "│ Lei nº 14.133 de 01 ┆ https://www.planalt ┆ https://legislacao ┆ Não consta ┆ Lei de Licitações  │\n",
       "│ de abril d…         ┆ o.gov.br/cc…        ┆ .presidencia…      ┆ revogação  ┆ e Contratos …      │\n",
       "│                     ┆                     ┆                    ┆ expressa   ┆                    │\n",
       "│ Decreto nº 10.657   ┆ https://www.planalt ┆ https://legislacao ┆ Não consta ┆ Institui a         │\n",
       "│ de 24 de mar…       ┆ o.gov.br/cc…        ┆ .presidencia…      ┆ revogação  ┆ Política de Apoio  │\n",
       "│                     ┆                     ┆                    ┆ expressa   ┆ a…                 │\n",
       "│ Decreto nº 10.627   ┆ https://www.planalt ┆ https://legislacao ┆ Não consta ┆ Altera o Anexo I   │\n",
       "│ de 12 de fev…       ┆ o.gov.br/cc…        ┆ .presidencia…      ┆ revogação  ┆ ao Decreto nº…     │\n",
       "│                     ┆                     ┆                    ┆ expressa   ┆                    │\n",
       "└─────────────────────┴─────────────────────┴────────────────────┴────────────┴────────────────────┘"
      ]
     },
     "execution_count": 4,
     "metadata": {},
     "output_type": "execute_result"
    }
   ],
   "source": [
    "dados"
   ]
  }
 ],
 "metadata": {
  "kernelspec": {
   "display_name": ".venv",
   "language": "python",
   "name": "python3"
  },
  "language_info": {
   "codemirror_mode": {
    "name": "ipython",
    "version": 3
   },
   "file_extension": ".py",
   "mimetype": "text/x-python",
   "name": "python",
   "nbconvert_exporter": "python",
   "pygments_lexer": "ipython3",
   "version": "3.12.3"
  }
 },
 "nbformat": 4,
 "nbformat_minor": 5
}
