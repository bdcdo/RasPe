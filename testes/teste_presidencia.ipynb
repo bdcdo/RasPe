{
 "cells": [
  {
   "cell_type": "code",
   "execution_count": 1,
   "id": "8acaba94",
   "metadata": {},
   "outputs": [],
   "source": [
    "import legiscraper as legis "
   ]
  },
  {
   "cell_type": "code",
   "execution_count": 2,
   "id": "c195d3cb",
   "metadata": {},
   "outputs": [
    {
     "name": "stderr",
     "output_type": "stream",
     "text": [
      "2025-05-29 17:51:19,987 - PRESIDENCIA - DEBUG - Download path set to /tmp/tmp5mi2hndy\n"
     ]
    }
   ],
   "source": [
    "scraper_atual = legis.scraper('PRESIDENCIA')"
   ]
  },
  {
   "cell_type": "code",
   "execution_count": 3,
   "id": "7b76f03d",
   "metadata": {},
   "outputs": [
    {
     "name": "stderr",
     "output_type": "stream",
     "text": [
      "2025-05-29 17:51:22,111 - PRESIDENCIA - INFO - Starting scrape with parameters {'pesquisa': 'doenças raras'}\n",
      "2025-05-29 17:51:22,115 - PRESIDENCIA - DEBUG - Setting query\n",
      "2025-05-29 17:51:22,116 - PRESIDENCIA - DEBUG - {'texto': 'doenças raras', 'ordenacao': 'maior_data'}\n",
      "2025-05-29 17:51:22,118 - PRESIDENCIA - DEBUG - Setting n_pags\n",
      "2025-05-29 17:51:22,119 - PRESIDENCIA - DEBUG - Sending r0.\n",
      "2025-05-29 17:51:22,619 - PRESIDENCIA - DEBUG - Finding n_pags\n"
     ]
    },
    {
     "ename": "HTTPError",
     "evalue": "500 Server Error: Internal Server Error for url: https://legislacao.presidencia.gov.br/pesquisa/ajax/resultado_pesquisa_legislacao.php?texto=doen%C3%A7as+raras&ordenacao=maior_data",
     "output_type": "error",
     "traceback": [
      "\u001b[31m---------------------------------------------------------------------------\u001b[39m",
      "\u001b[31mHTTPError\u001b[39m                                 Traceback (most recent call last)",
      "\u001b[36mCell\u001b[39m\u001b[36m \u001b[39m\u001b[32mIn[3]\u001b[39m\u001b[32m, line 1\u001b[39m\n\u001b[32m----> \u001b[39m\u001b[32m1\u001b[39m dados = \u001b[43mscraper_atual\u001b[49m\u001b[43m.\u001b[49m\u001b[43mscrape\u001b[49m\u001b[43m(\u001b[49m\u001b[43mpesquisa\u001b[49m\u001b[43m=\u001b[49m\u001b[33;43m'\u001b[39;49m\u001b[33;43mdoenças raras\u001b[39;49m\u001b[33;43m'\u001b[39;49m\u001b[43m)\u001b[49m\n",
      "\u001b[36mFile \u001b[39m\u001b[32m~/Desktop/dev/legiscraper/.venv/lib/python3.12/site-packages/legiscraper/base_scraper.py:53\u001b[39m, in \u001b[36mBaseScraper.scrape\u001b[39m\u001b[34m(self, **kwargs)\u001b[39m\n\u001b[32m     51\u001b[39m \u001b[38;5;28;01mdef\u001b[39;00m\u001b[38;5;250m \u001b[39m\u001b[34mscrape\u001b[39m(\u001b[38;5;28mself\u001b[39m, **kwargs):\n\u001b[32m     52\u001b[39m     \u001b[38;5;28mself\u001b[39m.logger.info(\u001b[33mf\u001b[39m\u001b[33m\"\u001b[39m\u001b[33mStarting scrape with parameters \u001b[39m\u001b[38;5;132;01m{\u001b[39;00mkwargs\u001b[38;5;132;01m}\u001b[39;00m\u001b[33m\"\u001b[39m)\n\u001b[32m---> \u001b[39m\u001b[32m53\u001b[39m     path_result = \u001b[38;5;28;43mself\u001b[39;49m\u001b[43m.\u001b[49m\u001b[43mdownload_data\u001b[49m\u001b[43m(\u001b[49m\u001b[43m*\u001b[49m\u001b[43m*\u001b[49m\u001b[43mkwargs\u001b[49m\u001b[43m)\u001b[49m  \u001b[38;5;66;03m# , classe, assunto, comarca, id_processo,\u001b[39;00m\n\u001b[32m     54\u001b[39m     data_parsed = \u001b[38;5;28mself\u001b[39m.parse_data(path_result)\n\u001b[32m     55\u001b[39m     \u001b[38;5;28mself\u001b[39m.logger.info(\u001b[33mf\u001b[39m\u001b[33m\"\u001b[39m\u001b[33mScrape finished, cleaning up directory \u001b[39m\u001b[38;5;132;01m{\u001b[39;00mpath_result\u001b[38;5;132;01m}\u001b[39;00m\u001b[33m\"\u001b[39m)\n",
      "\u001b[36mFile \u001b[39m\u001b[32m~/Desktop/dev/legiscraper/.venv/lib/python3.12/site-packages/legiscraper/base_scraper.py:68\u001b[39m, in \u001b[36mBaseScraper.download_data\u001b[39m\u001b[34m(self, **kwargs)\u001b[39m\n\u001b[32m     65\u001b[39m \u001b[38;5;28mself\u001b[39m.logger.debug(query_base)\n\u001b[32m     67\u001b[39m \u001b[38;5;28mself\u001b[39m.logger.debug(\u001b[33mf\u001b[39m\u001b[33m\"\u001b[39m\u001b[33mSetting n_pags\u001b[39m\u001b[33m\"\u001b[39m)\n\u001b[32m---> \u001b[39m\u001b[32m68\u001b[39m n_pags = \u001b[38;5;28;43mself\u001b[39;49m\u001b[43m.\u001b[49m\u001b[43m_get_n_pags\u001b[49m\u001b[43m(\u001b[49m\u001b[43mquery_base\u001b[49m\u001b[43m)\u001b[49m\n\u001b[32m     70\u001b[39m \u001b[38;5;28mself\u001b[39m.logger.debug(\u001b[33mf\u001b[39m\u001b[33m\"\u001b[39m\u001b[33mSetting paginas\u001b[39m\u001b[33m\"\u001b[39m)\n\u001b[32m     71\u001b[39m paginas = kwargs.get(\u001b[33m\"\u001b[39m\u001b[33mpaginas\u001b[39m\u001b[33m\"\u001b[39m)\n",
      "\u001b[36mFile \u001b[39m\u001b[32m~/Desktop/dev/legiscraper/.venv/lib/python3.12/site-packages/legiscraper/base_scraper.py:116\u001b[39m, in \u001b[36mBaseScraper._get_n_pags\u001b[39m\u001b[34m(self, query_inicial)\u001b[39m\n\u001b[32m    108\u001b[39m r0 = \u001b[38;5;28mself\u001b[39m.session.get(\n\u001b[32m    109\u001b[39m     \u001b[38;5;28mself\u001b[39m.api_base, \n\u001b[32m    110\u001b[39m     params=query_inicial, \n\u001b[32m    111\u001b[39m     headers=\u001b[38;5;28mself\u001b[39m.headers, \n\u001b[32m    112\u001b[39m     timeout=\u001b[38;5;28mself\u001b[39m.timeout\n\u001b[32m    113\u001b[39m )\n\u001b[32m    115\u001b[39m \u001b[38;5;28mself\u001b[39m.logger.debug(\u001b[33mf\u001b[39m\u001b[33m\"\u001b[39m\u001b[33mFinding n_pags\u001b[39m\u001b[33m\"\u001b[39m)\n\u001b[32m--> \u001b[39m\u001b[32m116\u001b[39m contagem = \u001b[38;5;28;43mself\u001b[39;49m\u001b[43m.\u001b[49m\u001b[43m_find_n_pags\u001b[49m\u001b[43m(\u001b[49m\u001b[43mr0\u001b[49m\u001b[43m)\u001b[49m\n\u001b[32m    118\u001b[39m \u001b[38;5;28mself\u001b[39m.logger.debug(\u001b[33mf\u001b[39m\u001b[33m\"\u001b[39m\u001b[33mFound \u001b[39m\u001b[38;5;132;01m{\u001b[39;00mcontagem\u001b[38;5;132;01m}\u001b[39;00m\u001b[33m pages for query \u001b[39m\u001b[38;5;132;01m{\u001b[39;00mquery_inicial\u001b[38;5;132;01m}\u001b[39;00m\u001b[33m\"\u001b[39m)\n\u001b[32m    119\u001b[39m \u001b[38;5;28;01mreturn\u001b[39;00m contagem\n",
      "\u001b[36mFile \u001b[39m\u001b[32m~/Desktop/dev/legiscraper/.venv/lib/python3.12/site-packages/legiscraper/scraper_presidencia.py:31\u001b[39m, in \u001b[36mScraperPresidencia._find_n_pags\u001b[39m\u001b[34m(self, r0)\u001b[39m\n\u001b[32m     30\u001b[39m \u001b[38;5;28;01mdef\u001b[39;00m\u001b[38;5;250m \u001b[39m\u001b[34m_find_n_pags\u001b[39m(\u001b[38;5;28mself\u001b[39m, r0) -> \u001b[38;5;28mint\u001b[39m:\n\u001b[32m---> \u001b[39m\u001b[32m31\u001b[39m     \u001b[43mr0\u001b[49m\u001b[43m.\u001b[49m\u001b[43mraise_for_status\u001b[49m\u001b[43m(\u001b[49m\u001b[43m)\u001b[49m\n\u001b[32m     33\u001b[39m     r0s = \u001b[38;5;28mself\u001b[39m.soup_it(r0.content)\n\u001b[32m     34\u001b[39m     num_text = \u001b[33m'\u001b[39m\u001b[33m0\u001b[39m\u001b[33m'\u001b[39m\n",
      "\u001b[36mFile \u001b[39m\u001b[32m~/Desktop/dev/legiscraper/.venv/lib/python3.12/site-packages/requests/models.py:1024\u001b[39m, in \u001b[36mResponse.raise_for_status\u001b[39m\u001b[34m(self)\u001b[39m\n\u001b[32m   1019\u001b[39m     http_error_msg = (\n\u001b[32m   1020\u001b[39m         \u001b[33mf\u001b[39m\u001b[33m\"\u001b[39m\u001b[38;5;132;01m{\u001b[39;00m\u001b[38;5;28mself\u001b[39m.status_code\u001b[38;5;132;01m}\u001b[39;00m\u001b[33m Server Error: \u001b[39m\u001b[38;5;132;01m{\u001b[39;00mreason\u001b[38;5;132;01m}\u001b[39;00m\u001b[33m for url: \u001b[39m\u001b[38;5;132;01m{\u001b[39;00m\u001b[38;5;28mself\u001b[39m.url\u001b[38;5;132;01m}\u001b[39;00m\u001b[33m\"\u001b[39m\n\u001b[32m   1021\u001b[39m     )\n\u001b[32m   1023\u001b[39m \u001b[38;5;28;01mif\u001b[39;00m http_error_msg:\n\u001b[32m-> \u001b[39m\u001b[32m1024\u001b[39m     \u001b[38;5;28;01mraise\u001b[39;00m HTTPError(http_error_msg, response=\u001b[38;5;28mself\u001b[39m)\n",
      "\u001b[31mHTTPError\u001b[39m: 500 Server Error: Internal Server Error for url: https://legislacao.presidencia.gov.br/pesquisa/ajax/resultado_pesquisa_legislacao.php?texto=doen%C3%A7as+raras&ordenacao=maior_data"
     ]
    }
   ],
   "source": [
    "dados = scraper_atual.scrape(pesquisa='doenças raras')"
   ]
  }
 ],
 "metadata": {
  "kernelspec": {
   "display_name": ".venv",
   "language": "python",
   "name": "python3"
  },
  "language_info": {
   "codemirror_mode": {
    "name": "ipython",
    "version": 3
   },
   "file_extension": ".py",
   "mimetype": "text/x-python",
   "name": "python",
   "nbconvert_exporter": "python",
   "pygments_lexer": "ipython3",
   "version": "3.12.3"
  }
 },
 "nbformat": 4,
 "nbformat_minor": 5
}
