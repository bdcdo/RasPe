{
 "cells": [
  {
   "cell_type": "code",
   "execution_count": 33,
   "id": "06618aad",
   "metadata": {},
   "outputs": [],
   "source": [
    "from bs4 import BeautifulSoup\n",
    "\n",
    "# Read the HTML file\n",
    "with open('PRESIDENCIA_00004.html', 'r', encoding='utf-8') as file:\n",
    "    html_content = file.read()\n",
    "\n",
    "# Parse with BeautifulSoup\n",
    "soup = BeautifulSoup(html_content, 'html.parser')"
   ]
  },
  {
   "cell_type": "code",
   "execution_count": 6,
   "id": "ad213f2f",
   "metadata": {},
   "outputs": [],
   "source": [
    "item = soup.find('div', class_='card-body p-0').find('div').find_all('div')[0]"
   ]
  },
  {
   "cell_type": "code",
   "execution_count": null,
   "id": "d7ab2d16",
   "metadata": {},
   "outputs": [],
   "source": [
    "nome = item.find('a').text.strip()"
   ]
  },
  {
   "cell_type": "code",
   "execution_count": null,
   "id": "a55942d7",
   "metadata": {},
   "outputs": [],
   "source": [
    "link = item.find_all('a')[0]['href']\n",
    "ficha = item.find_all('a')[1]['href']"
   ]
  },
  {
   "cell_type": "code",
   "execution_count": 30,
   "id": "a5b850c4",
   "metadata": {},
   "outputs": [],
   "source": [
    "revogacao = item.find_all('p')[0].text\n",
    "descricao = item.find_all('p')[1].text"
   ]
  }
 ],
 "metadata": {
  "kernelspec": {
   "display_name": ".venv",
   "language": "python",
   "name": "python3"
  },
  "language_info": {
   "codemirror_mode": {
    "name": "ipython",
    "version": 3
   },
   "file_extension": ".py",
   "mimetype": "text/x-python",
   "name": "python",
   "nbconvert_exporter": "python",
   "pygments_lexer": "ipython3",
   "version": "3.12.3"
  }
 },
 "nbformat": 4,
 "nbformat_minor": 5
}
