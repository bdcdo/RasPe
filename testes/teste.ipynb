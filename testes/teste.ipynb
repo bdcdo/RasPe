{
 "cells": [
  {
   "cell_type": "code",
   "execution_count": 1,
   "id": "8acaba94",
   "metadata": {},
   "outputs": [],
   "source": [
    "import legiscraper as legis "
   ]
  },
  {
   "cell_type": "code",
   "execution_count": 2,
   "id": "c195d3cb",
   "metadata": {},
   "outputs": [],
   "source": [
    "cnj = legis.scraper('CNJ')"
   ]
  },
  {
   "cell_type": "code",
   "execution_count": 3,
   "id": "7b76f03d",
   "metadata": {},
   "outputs": [
    {
     "ename": "ValueError",
     "evalue": "too many values to unpack (expected 2)",
     "output_type": "error",
     "traceback": [
      "\u001b[31m---------------------------------------------------------------------------\u001b[39m",
      "\u001b[31mValueError\u001b[39m                                Traceback (most recent call last)",
      "\u001b[36mCell\u001b[39m\u001b[36m \u001b[39m\u001b[32mIn[3]\u001b[39m\u001b[32m, line 1\u001b[39m\n\u001b[32m----> \u001b[39m\u001b[32m1\u001b[39m \u001b[43mcnj\u001b[49m\u001b[43m.\u001b[49m\u001b[43mscrape\u001b[49m\u001b[43m(\u001b[49m\u001b[43mpesquisa\u001b[49m\u001b[43m=\u001b[49m\u001b[33;43m'\u001b[39;49m\u001b[33;43mgolpe do pix\u001b[39;49m\u001b[33;43m'\u001b[39;49m\u001b[43m,\u001b[49m\u001b[43m \u001b[49m\u001b[43mpaginas\u001b[49m\u001b[43m=\u001b[49m\u001b[38;5;28;43mrange\u001b[39;49m\u001b[43m(\u001b[49m\u001b[32;43m0\u001b[39;49m\u001b[43m,\u001b[49m\u001b[32;43m3\u001b[39;49m\u001b[43m)\u001b[49m\u001b[43m)\u001b[49m\n",
      "\u001b[36mFile \u001b[39m\u001b[32m~/Desktop/dev/legiscraper/.venv/lib/python3.12/site-packages/legiscraper/base_scraper.py:29\u001b[39m, in \u001b[36mBaseScraper.scrape\u001b[39m\u001b[34m(self, **kwargs)\u001b[39m\n\u001b[32m     28\u001b[39m \u001b[38;5;28;01mdef\u001b[39;00m\u001b[38;5;250m \u001b[39m\u001b[34mscrape\u001b[39m(\u001b[38;5;28mself\u001b[39m, **kwargs):\n\u001b[32m---> \u001b[39m\u001b[32m29\u001b[39m     path_result = \u001b[38;5;28;43mself\u001b[39;49m\u001b[43m.\u001b[49m\u001b[43mdownload_data\u001b[49m\u001b[43m(\u001b[49m\u001b[43m*\u001b[49m\u001b[43m*\u001b[49m\u001b[43mkwargs\u001b[49m\u001b[43m)\u001b[49m \u001b[38;5;66;03m# , classe, assunto, comarca, id_processo,\u001b[39;00m\n\u001b[32m     30\u001b[39m     data_parsed = \u001b[38;5;28mself\u001b[39m.parse_data(path_result)\n\u001b[32m     31\u001b[39m     shutil.rmtree(path_result)\n",
      "\u001b[36mFile \u001b[39m\u001b[32m~/Desktop/dev/legiscraper/.venv/lib/python3.12/site-packages/legiscraper/base_scraper.py:38\u001b[39m, in \u001b[36mBaseScraper.download_data\u001b[39m\u001b[34m(self, **kwargs)\u001b[39m\n\u001b[32m     34\u001b[39m \u001b[38;5;28;01mdef\u001b[39;00m\u001b[38;5;250m \u001b[39m\u001b[34mdownload_data\u001b[39m(\n\u001b[32m     35\u001b[39m     \u001b[38;5;28mself\u001b[39m, \n\u001b[32m     36\u001b[39m     **kwargs\n\u001b[32m     37\u001b[39m ):\n\u001b[32m---> \u001b[39m\u001b[32m38\u001b[39m     query_inicial, query_real = \u001b[38;5;28mself\u001b[39m._set_query(**kwargs)\n\u001b[32m     39\u001b[39m     n_pags = \u001b[38;5;28mself\u001b[39m._get_n_pags(query_inicial)\n\u001b[32m     41\u001b[39m     paginas = kwargs.get(\u001b[33m'\u001b[39m\u001b[33mpaginas\u001b[39m\u001b[33m'\u001b[39m)\n",
      "\u001b[31mValueError\u001b[39m: too many values to unpack (expected 2)"
     ]
    }
   ],
   "source": [
    "cnj.scrape(pesquisa='golpe do pix', paginas=range(0,3))"
   ]
  }
 ],
 "metadata": {
  "kernelspec": {
   "display_name": ".venv",
   "language": "python",
   "name": "python3"
  },
  "language_info": {
   "codemirror_mode": {
    "name": "ipython",
    "version": 3
   },
   "file_extension": ".py",
   "mimetype": "text/x-python",
   "name": "python",
   "nbconvert_exporter": "python",
   "pygments_lexer": "ipython3",
   "version": "3.12.3"
  }
 },
 "nbformat": 4,
 "nbformat_minor": 5
}
